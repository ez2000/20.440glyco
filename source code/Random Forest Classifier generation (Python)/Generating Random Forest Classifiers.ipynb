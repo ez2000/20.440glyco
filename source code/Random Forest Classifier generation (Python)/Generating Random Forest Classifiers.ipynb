{
 "cells": [
  {
   "cell_type": "code",
   "execution_count": 39,
   "id": "dff51ec6",
   "metadata": {},
   "outputs": [],
   "source": [
    "import pandas as pd\n",
    "import numpy as np\n",
    "import scipy as sp\n",
    "import csv\n",
    "import pickle #to save notebook at sessions\n",
    "import matplotlib.pyplot as plt\n",
    "import ast \n",
    "\n",
    "from scipy.stats import mannwhitneyu\n",
    "from scipy.stats import ttest_ind\n",
    "\n",
    "#from Bojar lab format\n",
    "from sklearn.model_selection import train_test_split\n",
    "from sklearn.ensemble import RandomForestClassifier\n",
    "from sklearn.model_selection import RandomizedSearchCV\n",
    "from sklearn.metrics import roc_auc_score\n",
    "from sklearn.metrics import f1_score\n",
    "from sklearn.metrics import log_loss\n",
    "from sklearn.metrics import accuracy_score\n",
    "from sklearn.preprocessing import RobustScaler\n",
    "from sklearn.preprocessing import LabelEncoder\n",
    "\n",
    "#set path for pickles to be saved in\n",
    "pickle_path = '/Users/erikazhang/Dropbox (MIT)/20.440 Biological Networks/project/python pickles/'\n",
    "output_path = '/Users/erikazhang/Dropbox (MIT)/20.440 Biological Networks/project/output/'"
   ]
  },
  {
   "cell_type": "markdown",
   "id": "e30d8e7e",
   "metadata": {},
   "source": [
    "# Defining key functions\n"
   ]
  },
  {
   "cell_type": "code",
   "execution_count": 40,
   "id": "0fb54766",
   "metadata": {},
   "outputs": [],
   "source": [
    "# Parameters for grid search\n",
    "\n",
    "# Number of trees in random forest\n",
    "n_estimators = [int(x) for x in np.arange(200, 800, step=100)]\n",
    "# Maximum number of levels in tree\n",
    "max_depth = [int(x) for x in np.arange(10, 50, step=10)]\n",
    "max_depth.append(None)\n",
    "# Minimum number of samples required to split a node\n",
    "min_samples_split = [2, 5]\n",
    "# Minimum number of samples required at each leaf node\n",
    "min_samples_leaf = [1, 2]\n",
    "# Create the random grid\n",
    "random_grid = {'n_estimators': n_estimators,\n",
    "               'max_depth': max_depth,\n",
    "               'min_samples_split': min_samples_split,\n",
    "               'min_samples_leaf': min_samples_leaf,\n",
    "               }"
   ]
  },
  {
   "cell_type": "code",
   "execution_count": 41,
   "id": "a15adf52",
   "metadata": {},
   "outputs": [],
   "source": [
    "def model_evaluation(model, x, y):\n",
    "#     print(f\"Accuracy for 'PHA-L high' class: {100*(model.score(x[y==1], y[y==1])):>4f}%\")\n",
    "#     print(f\"Accuracy for 'PHA-L low' class: {100*(model.score(x[y==0], y[y==0])):>4f}%\")\n",
    "#     print(f\"Overall accuracy: {100*(model.score(x, y)):>4f}%\")\n",
    "    \n",
    "    model_predict = model.predict(x)\n",
    "    model_predict_prob = model.predict_proba(x)\n",
    "    \n",
    "    high = f\"{100*(model.score(x[y==1], y[y==1])):>4f}%\"\n",
    "    low = f'{100*(model.score(x[y==0], y[y==0])):>4f}%'\n",
    "    total = f'{100*(model.score(x, y)):>4f}%'\n",
    "\n",
    "    avg_loss = log_loss(y, model_predict_prob)\n",
    "    roc_auc = roc_auc_score(y, model_predict)\n",
    "    f1 = f1_score(y, model_predict)\n",
    "    return high, low, total, avg_loss, roc_auc, f1"
   ]
  },
  {
   "cell_type": "code",
   "execution_count": 42,
   "id": "07ba543d",
   "metadata": {},
   "outputs": [],
   "source": [
    "'''\n",
    "Generate training, validation, and test set from original full df using scikit learn \n",
    "saves best estimator model as a pickle\n",
    "\n",
    "Input: \n",
    "- dictionary: dictionary containing three dataframes with Biotin, Type, PHA-L column (binary) and gene transcripts\n",
    "- index: index of which df (out of three) to use as the training set. the rest will be used for testing. \n",
    "            index options are '1, '2', '3' (as strings)\n",
    "- name: name of pickle file to contain model (str) \n",
    "- df: dataframe to add model stats to\n",
    "- bool: True or False based on whether you want to save model as pickle or not. True for save, False for not\n",
    "- i: random state, default we've been using is 42\n",
    "\n",
    "Output: \n",
    "- high, low, total accuracy of best estimator model \n",
    "'''\n",
    "def train_and_evaluate(dictionary, index, name, df, boo):\n",
    "    \n",
    "    '''extract training set'''\n",
    "    data = dictionary[index]\n",
    "    \n",
    "    #y: PHA-L score array\n",
    "    y_train = data['PHA-L'].values \n",
    "\n",
    "    #X: glycogene transcript data array, drop columns if they exist\n",
    "    if 'PHA-L' in data.columns:\n",
    "        data = data.drop(columns=['PHA-L'])\n",
    "    if 'Type' in data.columns:\n",
    "        data = data.drop(columns=['Type'])\n",
    "    if 'Biotin' in data.columns:\n",
    "        data = data.drop(columns=['Biotin'])\n",
    "    \n",
    "    x_train = data.values\n",
    "\n",
    "    '''extract test sets (the other two dataframes that aren't used for training)'''\n",
    "    keys_list = [x for x in list(dictionary.keys()) if x != index]\n",
    "    df1 = dictionary[keys_list[0]]\n",
    "    df2 = dictionary[keys_list[1]]\n",
    "    test_data = pd.concat([df1, df2])\n",
    "    \n",
    "    #y: PHA-L score array\n",
    "    y_test = test_data['PHA-L'].values \n",
    "\n",
    "    #X: glycogene transcript data array, drop columns if they exist\n",
    "    if 'PHA-L' in test_data.columns:\n",
    "        test_data = test_data.drop(columns=['PHA-L'])\n",
    "    if 'Type' in test_data.columns:\n",
    "        test_data = test_data.drop(columns=['Type'])\n",
    "    if 'Biotin' in test_data.columns:\n",
    "        test_data = test_data.drop(columns=['Biotin'])\n",
    "    \n",
    "    x_test = test_data.values\n",
    "    \n",
    "    encoder = LabelEncoder()\n",
    "    encoder.fit(y_train)\n",
    "    y_train = encoder.transform(y_train)\n",
    "    y_test = encoder.transform(y_test)\n",
    "    \n",
    "    \n",
    "    ''''Use RandomSearchCV to optimize hyperparameters'''\n",
    "    #takes a while to run!!\n",
    "    model = RandomForestClassifier()\n",
    "\n",
    "    model_random = RandomizedSearchCV(estimator = model, param_distributions = random_grid, \n",
    "                                      n_iter = 20, cv = 5, verbose=5, random_state=42, n_jobs = -1)\n",
    "\n",
    "    model_random.fit(x_train, y_train)\n",
    "    \n",
    "    mod = model_random.best_estimator_\n",
    "    \n",
    "    if boo:    \n",
    "        # save pickle \n",
    "        with open(name +'.pkl', 'wb') as f:\n",
    "            pickle.dump(mod, f)\n",
    "        f.close()\n",
    "    \n",
    "    high, low, total, avg_loss, roc_auc, f1 = model_evaluation(mod, x_test, y_test)\n",
    "    \n",
    "    '''\n",
    "    extract top 5 important genes and append to dataframe\n",
    "    '''     \n",
    "    feature_importances = pd.DataFrame({'feature': data.columns, \n",
    "                                        'importance': mod.feature_importances_})\n",
    "\n",
    "    # Sort the dataframe by importance score in descending order\n",
    "    feature_importances = feature_importances.sort_values('importance', ascending=False)\n",
    "    feature_importances['combo'] = feature_importances['feature'] + ': '+ feature_importances['importance'].round(4).astype(str)\n",
    "    \n",
    "\n",
    "    # make new column that combines feature name with its importance value, get top 5 as string to add to dictionary\n",
    "    top10p_df = feature_importances.head(26)\n",
    "    top10p = str(list(top10p_df['combo']))\n",
    "    \n",
    "    #adds model information to dataframe called 'model_comp'\n",
    "    df.loc[len(df.index)] = [name, high, low, total, top10p, avg_loss, roc_auc, f1] \n",
    "\n",
    "    \n",
    "    return high, low, total, mod, feature_importances\n",
    "\n",
    "# #load pickled model via: \n",
    "# pickle_in = open(\"pickle_path + TILmodel_all_robust.pkl\",\"rb\")\n",
    "# TILmodel_all_robust = pickle.load(pickle_in)"
   ]
  },
  {
   "cell_type": "markdown",
   "id": "115e5d26",
   "metadata": {},
   "source": [
    "# Random Forest Classifier using all T-cells and all genes\n",
    "Referenced:\n",
    "https://github.com/BojarLab/scGlycomics_b16_branching/blob/main/Random%20Forest%20-%20Apr%208%202022%20-%20RQ.ipynb\n",
    "\n",
    "Full dataframe containing all genes and all T cells were split by cells into three equally sized datasets.\n",
    "Models were trained on one third and tested on remaining two thirds for each subset of the dataset."
   ]
  },
  {
   "cell_type": "code",
   "execution_count": 11,
   "id": "5d8196ff",
   "metadata": {},
   "outputs": [],
   "source": [
    "'''\n",
    "load pickled dataframe containing:\n",
    "- robust normalized gene expression counts\n",
    "- glycoscores\n",
    "- all genes + type + biotin + L-PHA in columns\n",
    "- cell barcodes of T-cells in rows\n",
    "'''\n",
    "pickle_in = open(\"TILglyconorm_split.pkl\",\"rb\")\n",
    "TILglyconorm_split = pickle.load(pickle_in)\n",
    "\n",
    "pickle_in = open(\"LNglyconorm_split.pkl\",\"rb\")\n",
    "LNglyconorm_split = pickle.load(pickle_in)"
   ]
  },
  {
   "cell_type": "code",
   "execution_count": 39,
   "id": "06d08476",
   "metadata": {},
   "outputs": [],
   "source": [
    "#10595 cells for LNs\n",
    "#9824 cells for TILs"
   ]
  },
  {
   "cell_type": "code",
   "execution_count": null,
   "id": "12b92fd0",
   "metadata": {},
   "outputs": [],
   "source": [
    "# make dataframe comparing different transformation types\n",
    "cols = {\"Model\": [], \"PHA-L high accuracy\": [], \"PHA-L low accuracy\": [], \n",
    "        \"Overall accuracy\": [], 'Top 5 features': [], 'Average loss': [], \n",
    "        'ROC AUC score': [], 'F1 score': []}\n",
    "full_comp = pd.DataFrame(columns = cols)"
   ]
  },
  {
   "cell_type": "markdown",
   "id": "6c560a76",
   "metadata": {},
   "source": [
    "## TILs"
   ]
  },
  {
   "cell_type": "code",
   "execution_count": 25,
   "id": "bbe773e6",
   "metadata": {
    "scrolled": true
   },
   "outputs": [
    {
     "name": "stdout",
     "output_type": "stream",
     "text": [
      "Fitting 5 folds for each of 20 candidates, totalling 100 fits\n"
     ]
    },
    {
     "name": "stderr",
     "output_type": "stream",
     "text": [
      "/home/erikazhang/miniconda3/lib/python3.10/site-packages/joblib/externals/loky/process_executor.py:700: UserWarning: A worker stopped while some jobs were given to the executor. This can be caused by a too short worker timeout or by a memory leak.\n",
      "  warnings.warn(\n"
     ]
    },
    {
     "name": "stdout",
     "output_type": "stream",
     "text": [
      "[CV 2/5] END max_depth=20, min_samples_leaf=2, min_samples_split=5, n_estimators=400;, score=0.916 total time=  25.5s\n",
      "[CV 4/5] END max_depth=10, min_samples_leaf=1, min_samples_split=2, n_estimators=600;, score=0.845 total time=  28.8s\n",
      "[CV 3/5] END max_depth=20, min_samples_leaf=2, min_samples_split=5, n_estimators=400;, score=0.902 total time=  25.1s\n",
      "[CV 5/5] END max_depth=10, min_samples_leaf=1, min_samples_split=2, n_estimators=600;, score=0.827 total time=  29.4s\n",
      "[CV 1/5] END max_depth=20, min_samples_leaf=2, min_samples_split=5, n_estimators=400;, score=0.898 total time=  30.8s\n",
      "[CV 3/5] END max_depth=10, min_samples_leaf=1, min_samples_split=2, n_estimators=600;, score=0.905 total time=  28.7s\n",
      "[CV 2/5] END max_depth=30, min_samples_leaf=2, min_samples_split=2, n_estimators=600;, score=0.920 total time=  39.5s\n",
      "[CV 4/5] END max_depth=20, min_samples_leaf=2, min_samples_split=5, n_estimators=400;, score=0.850 total time=  24.9s\n",
      "[CV 1/5] END max_depth=30, min_samples_leaf=1, min_samples_split=5, n_estimators=300;, score=0.898 total time=  23.0s\n",
      "[CV 3/5] END max_depth=30, min_samples_leaf=2, min_samples_split=2, n_estimators=600;, score=0.904 total time=  38.8s\n",
      "[CV 4/5] END max_depth=30, min_samples_leaf=2, min_samples_split=2, n_estimators=600;, score=0.848 total time=  39.1s\n",
      "[CV 5/5] END max_depth=20, min_samples_leaf=2, min_samples_split=5, n_estimators=400;, score=0.832 total time=  25.1s\n",
      "[CV 2/5] END max_depth=30, min_samples_leaf=1, min_samples_split=5, n_estimators=300;, score=0.917 total time=  22.9s\n",
      "[CV 5/5] END max_depth=30, min_samples_leaf=2, min_samples_split=2, n_estimators=600;, score=0.836 total time=  38.0s\n",
      "[CV 5/5] END max_depth=20, min_samples_leaf=1, min_samples_split=2, n_estimators=400;, score=0.835 total time=  26.3s\n",
      "[CV 3/5] END max_depth=10, min_samples_leaf=1, min_samples_split=5, n_estimators=600;, score=0.902 total time=  28.5s\n",
      "[CV 5/5] END max_depth=10, min_samples_leaf=1, min_samples_split=5, n_estimators=600;, score=0.832 total time=  28.6s\n",
      "[CV 1/5] END max_depth=10, min_samples_leaf=1, min_samples_split=2, n_estimators=600;, score=0.896 total time=  29.5s\n",
      "[CV 3/5] END max_depth=20, min_samples_leaf=1, min_samples_split=2, n_estimators=400;, score=0.907 total time=  26.4s\n",
      "[CV 1/5] END max_depth=10, min_samples_leaf=1, min_samples_split=5, n_estimators=600;, score=0.899 total time=  28.5s\n",
      "[CV 4/5] END max_depth=None, min_samples_leaf=1, min_samples_split=5, n_estimators=700;, score=0.853 total time=  55.2s\n",
      "[CV 4/5] END max_depth=20, min_samples_leaf=1, min_samples_split=2, n_estimators=400;, score=0.848 total time=  26.3s\n",
      "[CV 2/5] END max_depth=10, min_samples_leaf=1, min_samples_split=5, n_estimators=600;, score=0.920 total time=  29.3s\n",
      "[CV 5/5] END max_depth=None, min_samples_leaf=1, min_samples_split=5, n_estimators=700;, score=0.838 total time=  50.6s\n",
      "[CV 2/5] END max_depth=10, min_samples_leaf=2, min_samples_split=5, n_estimators=200;, score=0.922 total time=  12.2s\n",
      "[CV 3/5] END max_depth=20, min_samples_leaf=2, min_samples_split=2, n_estimators=600;, score=0.894 total time=  37.1s\n",
      "[CV 1/5] END max_depth=30, min_samples_leaf=2, min_samples_split=2, n_estimators=400;, score=0.901 total time=  26.9s\n",
      "[CV 3/5] END max_depth=10, min_samples_leaf=1, min_samples_split=5, n_estimators=700;, score=0.900 total time=  32.7s\n",
      "[CV 5/5] END max_depth=10, min_samples_leaf=1, min_samples_split=5, n_estimators=700;, score=0.828 total time=  32.7s\n",
      "[CV 1/5] END max_depth=20, min_samples_leaf=2, min_samples_split=2, n_estimators=600;, score=0.896 total time=  36.3s\n",
      "[CV 4/5] END max_depth=10, min_samples_leaf=2, min_samples_split=5, n_estimators=200;, score=0.847 total time=  12.1s\n",
      "[CV 2/5] END max_depth=20, min_samples_leaf=2, min_samples_split=2, n_estimators=200;, score=0.919 total time=  14.8s\n",
      "[CV 2/5] END max_depth=20, min_samples_leaf=2, min_samples_split=2, n_estimators=600;, score=0.922 total time=  36.1s\n",
      "[CV 5/5] END max_depth=10, min_samples_leaf=2, min_samples_split=5, n_estimators=200;, score=0.827 total time=  12.1s\n",
      "[CV 3/5] END max_depth=20, min_samples_leaf=2, min_samples_split=2, n_estimators=200;, score=0.900 total time=  14.7s\n",
      "[CV 4/5] END max_depth=20, min_samples_leaf=2, min_samples_split=2, n_estimators=200;, score=0.848 total time=  14.8s\n",
      "[CV 1/5] END max_depth=40, min_samples_leaf=2, min_samples_split=5, n_estimators=300;, score=0.893 total time=  35.5s\n",
      "[CV 2/5] END max_depth=10, min_samples_leaf=1, min_samples_split=2, n_estimators=600;, score=0.919 total time=  29.6s\n",
      "[CV 1/5] END max_depth=30, min_samples_leaf=2, min_samples_split=2, n_estimators=600;, score=0.899 total time=  38.6s\n",
      "[CV 4/5] END max_depth=10, min_samples_leaf=1, min_samples_split=5, n_estimators=600;, score=0.839 total time=  29.5s\n",
      "[CV 1/5] END max_depth=10, min_samples_leaf=2, min_samples_split=5, n_estimators=200;, score=0.899 total time=  12.3s\n",
      "[CV 4/5] END max_depth=10, min_samples_leaf=1, min_samples_split=5, n_estimators=700;, score=0.844 total time=  33.0s\n",
      "[CV 2/5] END max_depth=40, min_samples_leaf=2, min_samples_split=5, n_estimators=300;, score=0.923 total time=  26.2s\n",
      "[CV 3/5] END max_depth=10, min_samples_leaf=2, min_samples_split=5, n_estimators=200;, score=0.897 total time=  12.1s\n",
      "[CV 1/5] END max_depth=20, min_samples_leaf=2, min_samples_split=2, n_estimators=200;, score=0.896 total time=  14.8s\n",
      "[CV 3/5] END max_depth=40, min_samples_leaf=2, min_samples_split=5, n_estimators=300;, score=0.897 total time=  23.9s\n",
      "[CV 4/5] END max_depth=40, min_samples_leaf=2, min_samples_split=5, n_estimators=300;, score=0.848 total time=  21.5s\n",
      "[CV 4/5] END max_depth=20, min_samples_leaf=2, min_samples_split=5, n_estimators=700;, score=0.842 total time=  40.9s\n",
      "[CV 1/5] END max_depth=20, min_samples_leaf=1, min_samples_split=2, n_estimators=400;, score=0.896 total time=  32.5s\n",
      "[CV 4/5] END max_depth=40, min_samples_leaf=1, min_samples_split=2, n_estimators=300;, score=0.851 total time=  24.1s\n",
      "[CV 2/5] END max_depth=None, min_samples_leaf=1, min_samples_split=5, n_estimators=700;, score=0.919 total time=  55.6s\n",
      "[CV 5/5] END max_depth=30, min_samples_leaf=2, min_samples_split=2, n_estimators=400;, score=0.832 total time=  28.1s\n",
      "[CV 3/5] END max_depth=40, min_samples_leaf=2, min_samples_split=2, n_estimators=700;, score=0.896 total time=  46.1s\n",
      "[CV 4/5] END max_depth=None, min_samples_leaf=2, min_samples_split=2, n_estimators=300;, score=0.853 total time=  23.7s\n",
      "[CV 1/5] END max_depth=10, min_samples_leaf=1, min_samples_split=2, n_estimators=200;, score=0.899 total time=  13.3s\n",
      "[CV 2/5] END max_depth=10, min_samples_leaf=1, min_samples_split=5, n_estimators=700;, score=0.917 total time=  33.3s\n",
      "[CV 5/5] END max_depth=40, min_samples_leaf=2, min_samples_split=2, n_estimators=700;, score=0.833 total time=  57.1s\n",
      "[CV 4/5] END max_depth=10, min_samples_leaf=1, min_samples_split=2, n_estimators=200;, score=0.847 total time=  12.3s\n",
      "[CV 5/5] END max_depth=10, min_samples_leaf=1, min_samples_split=2, n_estimators=200;, score=0.824 total time=  12.3s\n",
      "[CV 1/5] END max_depth=40, min_samples_leaf=2, min_samples_split=2, n_estimators=600;, score=0.894 total time=  38.5s\n",
      "[CV 2/5] END max_depth=40, min_samples_leaf=2, min_samples_split=2, n_estimators=600;, score=0.914 total time=  39.9s\n",
      "[CV 3/5] END max_depth=40, min_samples_leaf=2, min_samples_split=2, n_estimators=600;, score=0.904 total time=  39.3s\n",
      "[CV 5/5] END max_depth=40, min_samples_leaf=2, min_samples_split=5, n_estimators=300;, score=0.833 total time=  26.0s\n",
      "[CV 4/5] END max_depth=40, min_samples_leaf=2, min_samples_split=2, n_estimators=600;, score=0.842 total time=  39.2s\n",
      "[CV 1/5] END max_depth=20, min_samples_leaf=2, min_samples_split=5, n_estimators=700;, score=0.898 total time=  40.8s\n",
      "[CV 3/5] END max_depth=30, min_samples_leaf=1, min_samples_split=5, n_estimators=300;, score=0.899 total time=  29.8s\n",
      "[CV 1/5] END max_depth=40, min_samples_leaf=1, min_samples_split=2, n_estimators=300;, score=0.893 total time=  25.1s\n",
      "[CV 4/5] END max_depth=20, min_samples_leaf=2, min_samples_split=2, n_estimators=600;, score=0.847 total time=  35.9s\n",
      "[CV 2/5] END max_depth=30, min_samples_leaf=2, min_samples_split=2, n_estimators=400;, score=0.919 total time=  27.2s\n",
      "[CV 5/5] END max_depth=20, min_samples_leaf=2, min_samples_split=2, n_estimators=200;, score=0.832 total time=  15.2s\n",
      "[CV 1/5] END max_depth=None, min_samples_leaf=2, min_samples_split=2, n_estimators=300;, score=0.896 total time=  25.6s\n",
      "[CV 5/5] END max_depth=40, min_samples_leaf=2, min_samples_split=2, n_estimators=600;, score=0.832 total time=  38.8s\n",
      "[CV 2/5] END max_depth=20, min_samples_leaf=2, min_samples_split=5, n_estimators=700;, score=0.919 total time=  40.8s\n",
      "[CV 4/5] END max_depth=30, min_samples_leaf=1, min_samples_split=5, n_estimators=300;, score=0.848 total time=  23.7s\n",
      "[CV 2/5] END max_depth=40, min_samples_leaf=1, min_samples_split=2, n_estimators=300;, score=0.919 total time=  24.4s\n",
      "[CV 5/5] END max_depth=20, min_samples_leaf=2, min_samples_split=2, n_estimators=600;, score=0.828 total time=  36.4s\n",
      "[CV 3/5] END max_depth=30, min_samples_leaf=2, min_samples_split=2, n_estimators=400;, score=0.899 total time=  27.4s\n",
      "[CV 1/5] END max_depth=40, min_samples_leaf=2, min_samples_split=2, n_estimators=700;, score=0.894 total time=  44.7s\n",
      "[CV 2/5] END max_depth=None, min_samples_leaf=2, min_samples_split=2, n_estimators=300;, score=0.919 total time=  24.5s\n",
      "[CV 1/5] END max_depth=None, min_samples_leaf=1, min_samples_split=5, n_estimators=400;, score=0.896 total time=  40.9s\n"
     ]
    }
   ],
   "source": [
    "high,low,total,mod_TIL1,TILfeats_1= train_and_evaluate(TILglyconorm_split, '1','allgenes_splitTIL_1', \n",
    "                                                      full_comp, True)\n"
   ]
  },
  {
   "cell_type": "code",
   "execution_count": 26,
   "id": "acc064cd",
   "metadata": {},
   "outputs": [],
   "source": [
    "with open('fullTILmod_1.pkl', 'wb') as f:\n",
    "    pickle.dump(mod_TIL1, f)\n",
    "f.close()\n",
    "with open('fullTILfeats_1.pkl', 'wb') as f:\n",
    "    pickle.dump(TILfeats_1, f)\n",
    "f.close()"
   ]
  },
  {
   "cell_type": "code",
   "execution_count": 27,
   "id": "75bca5ed",
   "metadata": {},
   "outputs": [
    {
     "name": "stdout",
     "output_type": "stream",
     "text": [
      "[CV 3/5] END max_depth=20, min_samples_leaf=2, min_samples_split=5, n_estimators=700;, score=0.899 total time=  41.0s\n",
      "[CV 5/5] END max_depth=30, min_samples_leaf=1, min_samples_split=5, n_estimators=300;, score=0.838 total time=  22.7s\n",
      "[CV 3/5] END max_depth=40, min_samples_leaf=1, min_samples_split=2, n_estimators=300;, score=0.902 total time=  24.5s\n",
      "[CV 1/5] END max_depth=None, min_samples_leaf=1, min_samples_split=5, n_estimators=700;, score=0.893 total time=  49.4s\n",
      "[CV 4/5] END max_depth=30, min_samples_leaf=2, min_samples_split=2, n_estimators=400;, score=0.848 total time=  27.4s\n",
      "[CV 2/5] END max_depth=40, min_samples_leaf=2, min_samples_split=2, n_estimators=700;, score=0.920 total time=  45.4s\n",
      "[CV 3/5] END max_depth=None, min_samples_leaf=2, min_samples_split=2, n_estimators=300;, score=0.904 total time=  23.3s\n",
      "[CV 2/5] END max_depth=None, min_samples_leaf=1, min_samples_split=5, n_estimators=400;, score=0.920 total time=  48.0s\n",
      "[CV 5/5] END max_depth=20, min_samples_leaf=2, min_samples_split=5, n_estimators=700;, score=0.833 total time=  41.0s\n",
      "[CV 2/5] END max_depth=20, min_samples_leaf=1, min_samples_split=2, n_estimators=400;, score=0.920 total time=  27.1s\n",
      "[CV 5/5] END max_depth=40, min_samples_leaf=1, min_samples_split=2, n_estimators=300;, score=0.830 total time=  30.5s\n",
      "[CV 3/5] END max_depth=None, min_samples_leaf=1, min_samples_split=5, n_estimators=700;, score=0.905 total time=  51.4s\n",
      "[CV 1/5] END max_depth=10, min_samples_leaf=1, min_samples_split=5, n_estimators=700;, score=0.898 total time=  33.1s\n",
      "[CV 4/5] END max_depth=40, min_samples_leaf=2, min_samples_split=2, n_estimators=700;, score=0.855 total time=  45.1s\n",
      "[CV 5/5] END max_depth=None, min_samples_leaf=2, min_samples_split=2, n_estimators=300;, score=0.836 total time=  25.9s\n",
      "[CV 3/5] END max_depth=None, min_samples_leaf=1, min_samples_split=5, n_estimators=400;, score=0.897 total time=  31.1s\n",
      "[CV 2/5] END max_depth=10, min_samples_leaf=1, min_samples_split=2, n_estimators=200;, score=0.917 total time=  12.3s\n",
      "[CV 4/5] END max_depth=None, min_samples_leaf=1, min_samples_split=5, n_estimators=400;, score=0.851 total time=  30.5s\n",
      "Fitting 5 folds for each of 20 candidates, totalling 100 fits\n"
     ]
    },
    {
     "name": "stderr",
     "output_type": "stream",
     "text": [
      "/home/erikazhang/miniconda3/lib/python3.10/site-packages/joblib/externals/loky/process_executor.py:700: UserWarning: A worker stopped while some jobs were given to the executor. This can be caused by a too short worker timeout or by a memory leak.\n",
      "  warnings.warn(\n"
     ]
    },
    {
     "name": "stdout",
     "output_type": "stream",
     "text": [
      "[CV 3/5] END max_depth=20, min_samples_leaf=2, min_samples_split=5, n_estimators=400;, score=0.887 total time=  32.3s\n",
      "[CV 5/5] END max_depth=10, min_samples_leaf=1, min_samples_split=2, n_estimators=600;, score=0.842 total time=  29.1s\n",
      "[CV 4/5] END max_depth=20, min_samples_leaf=2, min_samples_split=5, n_estimators=400;, score=0.891 total time=  25.8s\n",
      "[CV 1/5] END max_depth=30, min_samples_leaf=1, min_samples_split=5, n_estimators=300;, score=0.888 total time=  22.6s\n",
      "[CV 4/5] END max_depth=20, min_samples_leaf=2, min_samples_split=5, n_estimators=700;, score=0.894 total time=  41.2s\n",
      "[CV 1/5] END max_depth=20, min_samples_leaf=1, min_samples_split=2, n_estimators=400;, score=0.882 total time=  31.8s\n",
      "[CV 4/5] END max_depth=20, min_samples_leaf=1, min_samples_split=2, n_estimators=400;, score=0.893 total time=  30.7s\n",
      "[CV 2/5] END max_depth=10, min_samples_leaf=1, min_samples_split=2, n_estimators=600;, score=0.917 total time=  29.1s\n",
      "[CV 5/5] END max_depth=20, min_samples_leaf=1, min_samples_split=2, n_estimators=400;, score=0.854 total time=  26.5s\n",
      "[CV 5/5] END max_depth=20, min_samples_leaf=2, min_samples_split=5, n_estimators=400;, score=0.847 total time=  25.7s\n",
      "[CV 2/5] END max_depth=30, min_samples_leaf=1, min_samples_split=5, n_estimators=300;, score=0.926 total time=  22.6s\n",
      "[CV 4/5] END max_depth=30, min_samples_leaf=2, min_samples_split=2, n_estimators=600;, score=0.894 total time=  38.6s\n",
      "[CV 5/5] END max_depth=40, min_samples_leaf=1, min_samples_split=2, n_estimators=300;, score=0.862 total time=  24.5s\n",
      "[CV 1/5] END max_depth=10, min_samples_leaf=1, min_samples_split=5, n_estimators=600;, score=0.888 total time=  29.3s\n",
      "[CV 2/5] END max_depth=10, min_samples_leaf=1, min_samples_split=5, n_estimators=600;, score=0.916 total time=  29.1s\n",
      "[CV 3/5] END max_depth=10, min_samples_leaf=1, min_samples_split=2, n_estimators=200;, score=0.899 total time=  12.3s\n",
      "[CV 5/5] END max_depth=None, min_samples_leaf=1, min_samples_split=5, n_estimators=400;, score=0.838 total time=  29.9s\n",
      "[CV 1/5] END max_depth=20, min_samples_leaf=2, min_samples_split=5, n_estimators=400;, score=0.891 total time=  25.0s\n",
      "[CV 3/5] END max_depth=10, min_samples_leaf=1, min_samples_split=2, n_estimators=600;, score=0.887 total time=  30.2s\n",
      "[CV 1/5] END max_depth=30, min_samples_leaf=2, min_samples_split=2, n_estimators=600;, score=0.891 total time=  38.3s\n",
      "[CV 3/5] END max_depth=10, min_samples_leaf=1, min_samples_split=5, n_estimators=600;, score=0.884 total time=  28.9s\n",
      "[CV 2/5] END max_depth=20, min_samples_leaf=2, min_samples_split=5, n_estimators=400;, score=0.926 total time=  25.0s\n",
      "[CV 4/5] END max_depth=10, min_samples_leaf=1, min_samples_split=2, n_estimators=600;, score=0.888 total time=  29.0s\n",
      "[CV 2/5] END max_depth=30, min_samples_leaf=2, min_samples_split=2, n_estimators=600;, score=0.931 total time=  38.4s\n",
      "[CV 4/5] END max_depth=10, min_samples_leaf=1, min_samples_split=5, n_estimators=600;, score=0.885 total time=  29.0s\n",
      "[CV 3/5] END max_depth=30, min_samples_leaf=2, min_samples_split=2, n_estimators=600;, score=0.891 total time=  38.6s\n",
      "[CV 5/5] END max_depth=10, min_samples_leaf=1, min_samples_split=5, n_estimators=600;, score=0.848 total time=  36.2s\n",
      "[CV 1/5] END max_depth=10, min_samples_leaf=2, min_samples_split=5, n_estimators=200;, score=0.891 total time=  12.3s\n",
      "[CV 2/5] END max_depth=10, min_samples_leaf=2, min_samples_split=5, n_estimators=200;, score=0.922 total time=  12.1s\n",
      "[CV 3/5] END max_depth=None, min_samples_leaf=1, min_samples_split=5, n_estimators=700;, score=0.893 total time=  48.9s\n",
      "[CV 2/5] END max_depth=10, min_samples_leaf=1, min_samples_split=5, n_estimators=700;, score=0.916 total time=  33.2s\n",
      "[CV 1/5] END max_depth=20, min_samples_leaf=2, min_samples_split=5, n_estimators=700;, score=0.884 total time=  45.5s\n",
      "[CV 3/5] END max_depth=30, min_samples_leaf=1, min_samples_split=5, n_estimators=300;, score=0.896 total time=  27.7s\n",
      "[CV 5/5] END max_depth=30, min_samples_leaf=2, min_samples_split=2, n_estimators=600;, score=0.850 total time=  50.4s\n",
      "[CV 1/5] END max_depth=20, min_samples_leaf=2, min_samples_split=2, n_estimators=600;, score=0.890 total time=  36.2s\n",
      "[CV 3/5] END max_depth=10, min_samples_leaf=2, min_samples_split=5, n_estimators=200;, score=0.888 total time=  12.2s\n",
      "[CV 5/5] END max_depth=10, min_samples_leaf=1, min_samples_split=5, n_estimators=700;, score=0.844 total time=  32.9s\n",
      "[CV 2/5] END max_depth=20, min_samples_leaf=2, min_samples_split=5, n_estimators=700;, score=0.923 total time=  41.5s\n",
      "[CV 4/5] END max_depth=30, min_samples_leaf=1, min_samples_split=5, n_estimators=300;, score=0.888 total time=  25.0s\n",
      "[CV 1/5] END max_depth=40, min_samples_leaf=1, min_samples_split=2, n_estimators=300;, score=0.881 total time=  39.8s\n",
      "[CV 2/5] END max_depth=20, min_samples_leaf=2, min_samples_split=2, n_estimators=600;, score=0.925 total time=  36.1s\n",
      "[CV 4/5] END max_depth=10, min_samples_leaf=2, min_samples_split=5, n_estimators=200;, score=0.884 total time=  12.2s\n",
      "[CV 1/5] END max_depth=20, min_samples_leaf=2, min_samples_split=2, n_estimators=200;, score=0.882 total time=  14.7s\n",
      "[CV 5/5] END max_depth=None, min_samples_leaf=1, min_samples_split=5, n_estimators=700;, score=0.856 total time=  50.3s\n",
      "[CV 4/5] END max_depth=10, min_samples_leaf=1, min_samples_split=5, n_estimators=700;, score=0.885 total time=  33.2s\n",
      "[CV 1/5] END max_depth=40, min_samples_leaf=2, min_samples_split=5, n_estimators=300;, score=0.885 total time=  26.5s\n",
      "[CV 3/5] END max_depth=20, min_samples_leaf=2, min_samples_split=2, n_estimators=600;, score=0.888 total time=  35.8s\n",
      "[CV 5/5] END max_depth=10, min_samples_leaf=2, min_samples_split=5, n_estimators=200;, score=0.848 total time=  12.1s\n",
      "[CV 2/5] END max_depth=20, min_samples_leaf=2, min_samples_split=2, n_estimators=200;, score=0.928 total time=  14.8s\n",
      "[CV 2/5] END max_depth=40, min_samples_leaf=2, min_samples_split=5, n_estimators=300;, score=0.926 total time=  26.0s\n",
      "[CV 2/5] END max_depth=None, min_samples_leaf=1, min_samples_split=5, n_estimators=700;, score=0.923 total time=  48.9s\n",
      "[CV 1/5] END max_depth=10, min_samples_leaf=1, min_samples_split=5, n_estimators=700;, score=0.888 total time=  33.1s\n",
      "[CV 4/5] END max_depth=40, min_samples_leaf=2, min_samples_split=2, n_estimators=700;, score=0.891 total time= 1.1min\n",
      "[CV 2/5] END max_depth=10, min_samples_leaf=1, min_samples_split=2, n_estimators=200;, score=0.922 total time=  12.5s\n",
      "[CV 4/5] END max_depth=10, min_samples_leaf=1, min_samples_split=2, n_estimators=200;, score=0.888 total time=  12.5s\n",
      "[CV 5/5] END max_depth=10, min_samples_leaf=1, min_samples_split=2, n_estimators=200;, score=0.842 total time=  12.6s\n",
      "[CV 3/5] END max_depth=20, min_samples_leaf=2, min_samples_split=5, n_estimators=700;, score=0.891 total time=  41.7s\n",
      "[CV 5/5] END max_depth=30, min_samples_leaf=1, min_samples_split=5, n_estimators=300;, score=0.859 total time=  23.2s\n",
      "[CV 2/5] END max_depth=40, min_samples_leaf=1, min_samples_split=2, n_estimators=300;, score=0.925 total time=  25.0s\n",
      "[CV 4/5] END max_depth=20, min_samples_leaf=2, min_samples_split=2, n_estimators=600;, score=0.891 total time=  35.8s\n",
      "[CV 1/5] END max_depth=30, min_samples_leaf=2, min_samples_split=2, n_estimators=400;, score=0.887 total time=  26.7s\n",
      "[CV 3/5] END max_depth=20, min_samples_leaf=2, min_samples_split=2, n_estimators=200;, score=0.893 total time=  15.9s\n",
      "[CV 3/5] END max_depth=40, min_samples_leaf=2, min_samples_split=5, n_estimators=300;, score=0.890 total time=  25.3s\n",
      "[CV 1/5] END max_depth=40, min_samples_leaf=2, min_samples_split=2, n_estimators=600;, score=0.891 total time=  38.5s\n",
      "[CV 5/5] END max_depth=20, min_samples_leaf=2, min_samples_split=5, n_estimators=700;, score=0.853 total time=  41.3s\n",
      "[CV 2/5] END max_depth=20, min_samples_leaf=1, min_samples_split=2, n_estimators=400;, score=0.922 total time=  28.9s\n",
      "[CV 3/5] END max_depth=40, min_samples_leaf=1, min_samples_split=2, n_estimators=300;, score=0.894 total time=  24.1s\n",
      "[CV 5/5] END max_depth=20, min_samples_leaf=2, min_samples_split=2, n_estimators=600;, score=0.859 total time=  36.1s\n",
      "[CV 2/5] END max_depth=30, min_samples_leaf=2, min_samples_split=2, n_estimators=400;, score=0.922 total time=  26.8s\n",
      "[CV 4/5] END max_depth=20, min_samples_leaf=2, min_samples_split=2, n_estimators=200;, score=0.896 total time=  14.8s\n",
      "[CV 4/5] END max_depth=40, min_samples_leaf=2, min_samples_split=5, n_estimators=300;, score=0.888 total time=  21.6s\n",
      "[CV 2/5] END max_depth=40, min_samples_leaf=2, min_samples_split=2, n_estimators=600;, score=0.928 total time=  38.9s\n",
      "[CV 3/5] END max_depth=30, min_samples_leaf=2, min_samples_split=2, n_estimators=400;, score=0.891 total time=  26.7s\n",
      "[CV 5/5] END max_depth=20, min_samples_leaf=2, min_samples_split=2, n_estimators=200;, score=0.856 total time=  14.8s\n",
      "[CV 5/5] END max_depth=40, min_samples_leaf=2, min_samples_split=5, n_estimators=300;, score=0.857 total time=  21.7s\n",
      "[CV 3/5] END max_depth=40, min_samples_leaf=2, min_samples_split=2, n_estimators=600;, score=0.887 total time=  38.4s\n",
      "[CV 1/5] END max_depth=10, min_samples_leaf=1, min_samples_split=2, n_estimators=600;, score=0.888 total time=  28.8s\n",
      "[CV 3/5] END max_depth=20, min_samples_leaf=1, min_samples_split=2, n_estimators=400;, score=0.897 total time=  28.7s\n",
      "[CV 4/5] END max_depth=40, min_samples_leaf=1, min_samples_split=2, n_estimators=300;, score=0.891 total time=  30.9s\n",
      "[CV 1/5] END max_depth=None, min_samples_leaf=1, min_samples_split=5, n_estimators=700;, score=0.885 total time=  47.5s\n",
      "[CV 4/5] END max_depth=30, min_samples_leaf=2, min_samples_split=2, n_estimators=400;, score=0.888 total time=  26.9s\n",
      "[CV 1/5] END max_depth=40, min_samples_leaf=2, min_samples_split=2, n_estimators=700;, score=0.888 total time=  43.9s\n",
      "[CV 1/5] END max_depth=None, min_samples_leaf=2, min_samples_split=2, n_estimators=300;, score=0.887 total time=  26.2s\n",
      "[CV 4/5] END max_depth=40, min_samples_leaf=2, min_samples_split=2, n_estimators=600;, score=0.894 total time=  38.7s\n",
      "[CV 2/5] END max_depth=40, min_samples_leaf=2, min_samples_split=2, n_estimators=700;, score=0.925 total time=  44.7s\n",
      "[CV 2/5] END max_depth=None, min_samples_leaf=2, min_samples_split=2, n_estimators=300;, score=0.922 total time=  25.6s\n",
      "[CV 5/5] END max_depth=40, min_samples_leaf=2, min_samples_split=2, n_estimators=600;, score=0.854 total time=  39.4s\n",
      "[CV 3/5] END max_depth=None, min_samples_leaf=2, min_samples_split=2, n_estimators=300;, score=0.888 total time=  26.1s\n",
      "[CV 1/5] END max_depth=None, min_samples_leaf=1, min_samples_split=5, n_estimators=400;, score=0.887 total time=  29.4s\n"
     ]
    }
   ],
   "source": [
    "high,low,total,mod_TIL2,TILfeats_2= train_and_evaluate(TILglyconorm_split, '2','allgenes_splitTIL_2', \n",
    "                                                      full_comp, True)"
   ]
  },
  {
   "cell_type": "code",
   "execution_count": 28,
   "id": "fa045e1e",
   "metadata": {},
   "outputs": [],
   "source": [
    "with open('fullTILmod_2.pkl', 'wb') as f:\n",
    "    pickle.dump(mod_TIL2, f)\n",
    "f.close()\n",
    "with open('fullTILfeats_2.pkl', 'wb') as f:\n",
    "    pickle.dump(TILfeats_2, f)\n",
    "f.close()"
   ]
  },
  {
   "cell_type": "code",
   "execution_count": 29,
   "id": "e40bf79e",
   "metadata": {},
   "outputs": [
    {
     "name": "stdout",
     "output_type": "stream",
     "text": [
      "[CV 5/5] END max_depth=30, min_samples_leaf=2, min_samples_split=2, n_estimators=400;, score=0.854 total time=  27.2s\n",
      "[CV 3/5] END max_depth=40, min_samples_leaf=2, min_samples_split=2, n_estimators=700;, score=0.890 total time=  49.7s\n",
      "[CV 4/5] END max_depth=None, min_samples_leaf=2, min_samples_split=2, n_estimators=300;, score=0.893 total time=  24.7s\n",
      "[CV 2/5] END max_depth=None, min_samples_leaf=1, min_samples_split=5, n_estimators=400;, score=0.928 total time=  30.2s\n",
      "[CV 5/5] END max_depth=None, min_samples_leaf=2, min_samples_split=2, n_estimators=300;, score=0.853 total time=  24.9s\n",
      "[CV 3/5] END max_depth=None, min_samples_leaf=1, min_samples_split=5, n_estimators=400;, score=0.899 total time=  37.4s\n",
      "Fitting 5 folds for each of 20 candidates, totalling 100 fits\n",
      "[CV 4/5] END max_depth=None, min_samples_leaf=1, min_samples_split=5, n_estimators=700;, score=0.896 total time=  49.5s\n",
      "[CV 3/5] END max_depth=10, min_samples_leaf=1, min_samples_split=5, n_estimators=700;, score=0.887 total time=  33.1s\n",
      "[CV 1/5] END max_depth=10, min_samples_leaf=1, min_samples_split=2, n_estimators=200;, score=0.885 total time=  14.7s\n",
      "[CV 4/5] END max_depth=None, min_samples_leaf=1, min_samples_split=5, n_estimators=400;, score=0.897 total time=  49.3s\n"
     ]
    },
    {
     "name": "stderr",
     "output_type": "stream",
     "text": [
      "/home/erikazhang/miniconda3/lib/python3.10/site-packages/joblib/externals/loky/process_executor.py:700: UserWarning: A worker stopped while some jobs were given to the executor. This can be caused by a too short worker timeout or by a memory leak.\n",
      "  warnings.warn(\n"
     ]
    },
    {
     "name": "stdout",
     "output_type": "stream",
     "text": [
      "[CV 3/5] END max_depth=10, min_samples_leaf=1, min_samples_split=2, n_estimators=600;, score=0.877 total time=  30.9s\n",
      "[CV 2/5] END max_depth=20, min_samples_leaf=2, min_samples_split=5, n_estimators=400;, score=0.922 total time=  25.1s\n",
      "[CV 5/5] END max_depth=10, min_samples_leaf=1, min_samples_split=2, n_estimators=600;, score=0.837 total time=  30.6s\n",
      "[CV 3/5] END max_depth=20, min_samples_leaf=2, min_samples_split=5, n_estimators=400;, score=0.885 total time=  30.7s\n",
      "[CV 1/5] END max_depth=30, min_samples_leaf=1, min_samples_split=5, n_estimators=300;, score=0.884 total time=  23.3s\n",
      "[CV 5/5] END max_depth=20, min_samples_leaf=2, min_samples_split=5, n_estimators=700;, score=0.848 total time=  47.8s\n",
      "[CV 3/5] END max_depth=20, min_samples_leaf=1, min_samples_split=2, n_estimators=400;, score=0.888 total time=  26.6s\n",
      "[CV 5/5] END max_depth=40, min_samples_leaf=2, min_samples_split=2, n_estimators=700;, score=0.853 total time=  56.2s\n",
      "[CV 3/5] END max_depth=10, min_samples_leaf=1, min_samples_split=2, n_estimators=200;, score=0.887 total time=  12.5s\n",
      "[CV 5/5] END max_depth=None, min_samples_leaf=1, min_samples_split=5, n_estimators=400;, score=0.857 total time=  30.2s\n",
      "[CV 1/5] END max_depth=20, min_samples_leaf=2, min_samples_split=5, n_estimators=400;, score=0.885 total time=  26.3s\n",
      "[CV 4/5] END max_depth=10, min_samples_leaf=1, min_samples_split=2, n_estimators=600;, score=0.884 total time=  30.1s\n",
      "[CV 1/5] END max_depth=30, min_samples_leaf=2, min_samples_split=2, n_estimators=600;, score=0.882 total time=  38.3s\n",
      "[CV 4/5] END max_depth=20, min_samples_leaf=2, min_samples_split=5, n_estimators=700;, score=0.891 total time=  43.2s\n",
      "[CV 2/5] END max_depth=20, min_samples_leaf=1, min_samples_split=2, n_estimators=400;, score=0.930 total time=  26.6s\n",
      "[CV 5/5] END max_depth=40, min_samples_leaf=1, min_samples_split=2, n_estimators=300;, score=0.857 total time=  36.8s\n",
      "[CV 2/5] END max_depth=None, min_samples_leaf=1, min_samples_split=5, n_estimators=700;, score=0.922 total time=  50.5s\n",
      "[CV 2/5] END max_depth=30, min_samples_leaf=2, min_samples_split=2, n_estimators=600;, score=0.925 total time=  39.1s\n",
      "[CV 4/5] END max_depth=10, min_samples_leaf=1, min_samples_split=5, n_estimators=600;, score=0.888 total time=  35.8s\n",
      "[CV 1/5] END max_depth=10, min_samples_leaf=2, min_samples_split=5, n_estimators=200;, score=0.887 total time=  12.5s\n",
      "[CV 3/5] END max_depth=30, min_samples_leaf=2, min_samples_split=2, n_estimators=600;, score=0.888 total time=  41.3s\n",
      "[CV 5/5] END max_depth=10, min_samples_leaf=1, min_samples_split=5, n_estimators=600;, score=0.845 total time=  29.9s\n",
      "[CV 3/5] END max_depth=10, min_samples_leaf=1, min_samples_split=5, n_estimators=600;, score=0.882 total time=  29.3s\n",
      "[CV 5/5] END max_depth=None, min_samples_leaf=1, min_samples_split=5, n_estimators=700;, score=0.862 total time=  53.5s\n",
      "[CV 4/5] END max_depth=20, min_samples_leaf=2, min_samples_split=5, n_estimators=400;, score=0.887 total time=  25.6s\n",
      "[CV 2/5] END max_depth=30, min_samples_leaf=1, min_samples_split=5, n_estimators=300;, score=0.923 total time=  23.1s\n",
      "[CV 5/5] END max_depth=30, min_samples_leaf=2, min_samples_split=2, n_estimators=600;, score=0.857 total time=  38.4s\n",
      "[CV 2/5] END max_depth=20, min_samples_leaf=2, min_samples_split=2, n_estimators=600;, score=0.922 total time=  36.9s\n",
      "[CV 4/5] END max_depth=10, min_samples_leaf=2, min_samples_split=5, n_estimators=200;, score=0.887 total time=  12.6s\n",
      "[CV 1/5] END max_depth=10, min_samples_leaf=1, min_samples_split=2, n_estimators=600;, score=0.885 total time=  36.4s\n",
      "[CV 4/5] END max_depth=20, min_samples_leaf=1, min_samples_split=2, n_estimators=400;, score=0.887 total time=  26.7s\n",
      "[CV 1/5] END max_depth=10, min_samples_leaf=1, min_samples_split=5, n_estimators=600;, score=0.893 total time=  29.3s\n",
      "[CV 3/5] END max_depth=None, min_samples_leaf=1, min_samples_split=5, n_estimators=700;, score=0.891 total time=  51.4s\n",
      "[CV 1/5] END max_depth=10, min_samples_leaf=1, min_samples_split=5, n_estimators=700;, score=0.891 total time=  32.9s\n",
      "[CV 2/5] END max_depth=10, min_samples_leaf=1, min_samples_split=2, n_estimators=600;, score=0.920 total time=  30.7s\n",
      "[CV 5/5] END max_depth=20, min_samples_leaf=1, min_samples_split=2, n_estimators=400;, score=0.856 total time=  26.6s\n",
      "[CV 2/5] END max_depth=10, min_samples_leaf=1, min_samples_split=5, n_estimators=600;, score=0.920 total time=  29.4s\n",
      "[CV 4/5] END max_depth=None, min_samples_leaf=1, min_samples_split=5, n_estimators=700;, score=0.896 total time=  50.9s\n",
      "[CV 2/5] END max_depth=10, min_samples_leaf=1, min_samples_split=5, n_estimators=700;, score=0.923 total time=  35.7s\n",
      "[CV 3/5] END max_depth=10, min_samples_leaf=1, min_samples_split=5, n_estimators=700;, score=0.879 total time=  33.6s\n",
      "[CV 2/5] END max_depth=10, min_samples_leaf=2, min_samples_split=5, n_estimators=200;, score=0.919 total time=  12.5s\n",
      "[CV 4/5] END max_depth=10, min_samples_leaf=1, min_samples_split=5, n_estimators=700;, score=0.885 total time=  33.8s\n",
      "[CV 4/5] END max_depth=30, min_samples_leaf=2, min_samples_split=2, n_estimators=600;, score=0.894 total time=  39.9s\n",
      "[CV 1/5] END max_depth=20, min_samples_leaf=2, min_samples_split=2, n_estimators=600;, score=0.893 total time=  35.9s\n",
      "[CV 3/5] END max_depth=10, min_samples_leaf=2, min_samples_split=5, n_estimators=200;, score=0.881 total time=  12.8s\n",
      "[CV 5/5] END max_depth=10, min_samples_leaf=1, min_samples_split=5, n_estimators=700;, score=0.848 total time=  33.3s\n",
      "[CV 1/5] END max_depth=20, min_samples_leaf=2, min_samples_split=2, n_estimators=200;, score=0.885 total time=  15.0s\n",
      "[CV 5/5] END max_depth=30, min_samples_leaf=2, min_samples_split=2, n_estimators=400;, score=0.854 total time=  27.6s\n",
      "[CV 3/5] END max_depth=40, min_samples_leaf=2, min_samples_split=2, n_estimators=700;, score=0.894 total time=  44.6s\n",
      "[CV 4/5] END max_depth=40, min_samples_leaf=2, min_samples_split=2, n_estimators=700;, score=0.893 total time=  44.5s\n",
      "[CV 5/5] END max_depth=40, min_samples_leaf=2, min_samples_split=2, n_estimators=700;, score=0.856 total time=  45.7s\n",
      "[CV 1/5] END max_depth=40, min_samples_leaf=2, min_samples_split=5, n_estimators=300;, score=0.885 total time=  21.4s\n",
      "[CV 2/5] END max_depth=40, min_samples_leaf=2, min_samples_split=5, n_estimators=300;, score=0.923 total time=  21.0s\n",
      "[CV 1/5] END max_depth=10, min_samples_leaf=1, min_samples_split=2, n_estimators=200;, score=0.893 total time=  14.3s\n",
      "[CV 2/5] END max_depth=10, min_samples_leaf=1, min_samples_split=2, n_estimators=200;, score=0.925 total time=  12.5s\n",
      "[CV 4/5] END max_depth=10, min_samples_leaf=1, min_samples_split=2, n_estimators=200;, score=0.894 total time=  12.6s\n",
      "[CV 5/5] END max_depth=10, min_samples_leaf=1, min_samples_split=2, n_estimators=200;, score=0.842 total time=  12.4s\n",
      "[CV 1/5] END max_depth=40, min_samples_leaf=2, min_samples_split=2, n_estimators=600;, score=0.888 total time=  38.2s\n",
      "[CV 3/5] END max_depth=40, min_samples_leaf=2, min_samples_split=5, n_estimators=300;, score=0.884 total time=  20.9s\n",
      "[CV 2/5] END max_depth=40, min_samples_leaf=2, min_samples_split=2, n_estimators=600;, score=0.923 total time=  39.9s\n",
      "[CV 4/5] END max_depth=40, min_samples_leaf=2, min_samples_split=5, n_estimators=300;, score=0.887 total time=  21.1s\n",
      "[CV 3/5] END max_depth=40, min_samples_leaf=2, min_samples_split=2, n_estimators=600;, score=0.890 total time=  38.7s\n",
      "[CV 5/5] END max_depth=20, min_samples_leaf=2, min_samples_split=5, n_estimators=400;, score=0.854 total time=  25.9s\n",
      "[CV 3/5] END max_depth=30, min_samples_leaf=1, min_samples_split=5, n_estimators=300;, score=0.891 total time=  27.7s\n",
      "[CV 1/5] END max_depth=40, min_samples_leaf=1, min_samples_split=2, n_estimators=300;, score=0.879 total time=  23.1s\n",
      "[CV 3/5] END max_depth=20, min_samples_leaf=2, min_samples_split=2, n_estimators=600;, score=0.891 total time=  36.4s\n",
      "[CV 5/5] END max_depth=10, min_samples_leaf=2, min_samples_split=5, n_estimators=200;, score=0.845 total time=  12.5s\n",
      "[CV 2/5] END max_depth=20, min_samples_leaf=2, min_samples_split=2, n_estimators=200;, score=0.919 total time=  14.9s\n",
      "[CV 5/5] END max_depth=40, min_samples_leaf=2, min_samples_split=5, n_estimators=300;, score=0.854 total time=  21.3s\n",
      "[CV 4/5] END max_depth=40, min_samples_leaf=2, min_samples_split=2, n_estimators=600;, score=0.891 total time=  41.3s\n",
      "[CV 1/5] END max_depth=20, min_samples_leaf=2, min_samples_split=5, n_estimators=700;, score=0.891 total time=  42.7s\n",
      "[CV 4/5] END max_depth=30, min_samples_leaf=1, min_samples_split=5, n_estimators=300;, score=0.893 total time=  25.2s\n",
      "[CV 2/5] END max_depth=40, min_samples_leaf=1, min_samples_split=2, n_estimators=300;, score=0.931 total time=  23.5s\n",
      "[CV 4/5] END max_depth=20, min_samples_leaf=2, min_samples_split=2, n_estimators=600;, score=0.890 total time=  37.5s\n",
      "[CV 1/5] END max_depth=30, min_samples_leaf=2, min_samples_split=2, n_estimators=400;, score=0.891 total time=  26.9s\n",
      "[CV 3/5] END max_depth=20, min_samples_leaf=2, min_samples_split=2, n_estimators=200;, score=0.888 total time=  15.0s\n",
      "[CV 1/5] END max_depth=None, min_samples_leaf=2, min_samples_split=2, n_estimators=300;, score=0.884 total time=  20.9s\n",
      "[CV 5/5] END max_depth=40, min_samples_leaf=2, min_samples_split=2, n_estimators=600;, score=0.859 total time=  40.0s\n"
     ]
    }
   ],
   "source": [
    "high,low,total,mod_TIL3,TILfeats_3= train_and_evaluate(TILglyconorm_split, '3','allgenes_splitTIL_3', \n",
    "                                                      full_comp, True)"
   ]
  },
  {
   "cell_type": "raw",
   "id": "04267d54",
   "metadata": {},
   "source": [
    "with open('fullTILmod_3.pkl', 'wb') as f:\n",
    "    pickle.dump(mod_TIL3, f)\n",
    "f.close()\n",
    "\n",
    "with open('fullTILfeats_3.pkl', 'wb') as f:\n",
    "    pickle.dump(TILfeats_3, f)\n",
    "f.close()"
   ]
  },
  {
   "cell_type": "code",
   "execution_count": 25,
   "id": "c9a49906",
   "metadata": {},
   "outputs": [],
   "source": [
    "fullLN_ROCs = list(fullLN_comp['ROC AUC score'])\n",
    "with open('fullLN_ROCs.pkl', 'wb') as f:\n",
    "    pickle.dump(fullLN_ROCs, f)\n",
    "    f.close()"
   ]
  },
  {
   "cell_type": "markdown",
   "id": "db2d39fd",
   "metadata": {},
   "source": [
    "### LNs"
   ]
  },
  {
   "cell_type": "code",
   "execution_count": 43,
   "id": "6e241af6",
   "metadata": {},
   "outputs": [
    {
     "name": "stdout",
     "output_type": "stream",
     "text": [
      "Fitting 5 folds for each of 20 candidates, totalling 100 fits\n"
     ]
    },
    {
     "name": "stderr",
     "output_type": "stream",
     "text": [
      "/home/erikazhang/miniconda3/lib/python3.10/site-packages/joblib/externals/loky/process_executor.py:700: UserWarning: A worker stopped while some jobs were given to the executor. This can be caused by a too short worker timeout or by a memory leak.\n",
      "  warnings.warn(\n"
     ]
    },
    {
     "name": "stdout",
     "output_type": "stream",
     "text": [
      "[CV 1/5] END max_depth=20, min_samples_leaf=2, min_samples_split=5, n_estimators=400;, score=0.901 total time=  40.0s\n",
      "[CV 5/5] END max_depth=20, min_samples_leaf=2, min_samples_split=5, n_estimators=400;, score=0.827 total time=  39.3s\n",
      "[CV 4/5] END max_depth=20, min_samples_leaf=2, min_samples_split=5, n_estimators=700;, score=0.863 total time= 1.0min\n",
      "[CV 3/5] END max_depth=10, min_samples_leaf=1, min_samples_split=2, n_estimators=600;, score=0.890 total time=  44.5s\n",
      "[CV 3/5] END max_depth=20, min_samples_leaf=2, min_samples_split=5, n_estimators=400;, score=0.905 total time=  39.3s\n",
      "[CV 2/5] END max_depth=20, min_samples_leaf=2, min_samples_split=5, n_estimators=700;, score=0.879 total time=  59.8s\n",
      "[CV 1/5] END max_depth=10, min_samples_leaf=1, min_samples_split=2, n_estimators=600;, score=0.903 total time=  44.7s\n",
      "[CV 5/5] END max_depth=10, min_samples_leaf=1, min_samples_split=2, n_estimators=600;, score=0.810 total time=  45.6s\n",
      "[CV 4/5] END max_depth=20, min_samples_leaf=2, min_samples_split=5, n_estimators=400;, score=0.859 total time=  39.5s\n",
      "[CV 3/5] END max_depth=20, min_samples_leaf=2, min_samples_split=5, n_estimators=700;, score=0.895 total time= 1.0min\n",
      "[CV 2/5] END max_depth=10, min_samples_leaf=1, min_samples_split=2, n_estimators=600;, score=0.857 total time=  44.5s\n",
      "[CV 1/5] END max_depth=30, min_samples_leaf=1, min_samples_split=5, n_estimators=300;, score=0.900 total time=  37.1s\n",
      "[CV 2/5] END max_depth=20, min_samples_leaf=2, min_samples_split=5, n_estimators=400;, score=0.867 total time=  38.9s\n",
      "[CV 1/5] END max_depth=20, min_samples_leaf=2, min_samples_split=5, n_estimators=700;, score=0.903 total time= 1.1min\n",
      "[CV 5/5] END max_depth=20, min_samples_leaf=2, min_samples_split=5, n_estimators=700;, score=0.830 total time= 1.0min\n",
      "[CV 4/5] END max_depth=10, min_samples_leaf=1, min_samples_split=2, n_estimators=600;, score=0.844 total time=  43.3s\n",
      "[CV 3/5] END max_depth=30, min_samples_leaf=1, min_samples_split=5, n_estimators=300;, score=0.908 total time=  36.5s\n",
      "[CV 2/5] END max_depth=30, min_samples_leaf=1, min_samples_split=5, n_estimators=300;, score=0.886 total time=  37.3s\n",
      "[CV 1/5] END max_depth=20, min_samples_leaf=1, min_samples_split=2, n_estimators=400;, score=0.911 total time=  41.8s\n",
      "[CV 2/5] END max_depth=20, min_samples_leaf=1, min_samples_split=2, n_estimators=400;, score=0.883 total time=  40.7s\n"
     ]
    },
    {
     "name": "stderr",
     "output_type": "stream",
     "text": [
      "IOStream.flush timed out\n"
     ]
    },
    {
     "name": "stdout",
     "output_type": "stream",
     "text": [
      "[CV 1/5] END max_depth=30, min_samples_leaf=2, min_samples_split=2, n_estimators=600;, score=0.903 total time=  56.8s\n",
      "[CV 5/5] END max_depth=30, min_samples_leaf=1, min_samples_split=5, n_estimators=300;, score=0.842 total time=  36.1s\n",
      "[CV 4/5] END max_depth=20, min_samples_leaf=1, min_samples_split=2, n_estimators=400;, score=0.857 total time=  41.0s\n",
      "[CV 3/5] END max_depth=30, min_samples_leaf=2, min_samples_split=2, n_estimators=600;, score=0.898 total time=  57.5s\n",
      "[CV 4/5] END max_depth=30, min_samples_leaf=2, min_samples_split=2, n_estimators=600;, score=0.868 total time= 1.0min\n",
      "[CV 5/5] END max_depth=20, min_samples_leaf=1, min_samples_split=2, n_estimators=400;, score=0.829 total time=  42.2s\n",
      "[CV 5/5] END max_depth=30, min_samples_leaf=2, min_samples_split=2, n_estimators=600;, score=0.832 total time=  57.2s\n",
      "[CV 4/5] END max_depth=40, min_samples_leaf=1, min_samples_split=2, n_estimators=300;, score=0.876 total time=  37.9s\n",
      "[CV 3/5] END max_depth=40, min_samples_leaf=1, min_samples_split=2, n_estimators=300;, score=0.908 total time=  38.3s\n",
      "[CV 2/5] END max_depth=40, min_samples_leaf=1, min_samples_split=2, n_estimators=300;, score=0.879 total time=  37.1s\n",
      "[CV 2/5] END max_depth=10, min_samples_leaf=1, min_samples_split=5, n_estimators=600;, score=0.860 total time=  43.8s\n",
      "[CV 5/5] END max_depth=10, min_samples_leaf=1, min_samples_split=5, n_estimators=600;, score=0.810 total time=  42.6s\n",
      "[CV 1/5] END max_depth=10, min_samples_leaf=1, min_samples_split=5, n_estimators=600;, score=0.901 total time=  43.9s\n",
      "[CV 4/5] END max_depth=20, min_samples_leaf=2, min_samples_split=2, n_estimators=600;, score=0.861 total time=  53.6s\n",
      "[CV 5/5] END max_depth=None, min_samples_leaf=1, min_samples_split=5, n_estimators=700;, score=0.843 total time= 1.2min\n",
      "[CV 1/5] END max_depth=10, min_samples_leaf=2, min_samples_split=5, n_estimators=200;, score=0.897 total time=  21.9s\n",
      "[CV 4/5] END max_depth=30, min_samples_leaf=1, min_samples_split=5, n_estimators=300;, score=0.863 total time=  37.7s\n",
      "[CV 3/5] END max_depth=20, min_samples_leaf=1, min_samples_split=2, n_estimators=400;, score=0.901 total time=  40.3s\n",
      "[CV 2/5] END max_depth=30, min_samples_leaf=2, min_samples_split=2, n_estimators=600;, score=0.874 total time=  56.7s\n",
      "[CV 1/5] END max_depth=40, min_samples_leaf=1, min_samples_split=2, n_estimators=300;, score=0.900 total time=  37.5s\n",
      "[CV 5/5] END max_depth=40, min_samples_leaf=1, min_samples_split=2, n_estimators=300;, score=0.832 total time=  37.5s\n",
      "[CV 4/5] END max_depth=10, min_samples_leaf=1, min_samples_split=5, n_estimators=600;, score=0.846 total time=  43.1s\n",
      "[CV 3/5] END max_depth=20, min_samples_leaf=2, min_samples_split=2, n_estimators=600;, score=0.901 total time=  53.6s\n",
      "[CV 2/5] END max_depth=10, min_samples_leaf=2, min_samples_split=5, n_estimators=200;, score=0.864 total time=  21.5s\n",
      "[CV 3/5] END max_depth=None, min_samples_leaf=1, min_samples_split=5, n_estimators=700;, score=0.904 total time= 1.2min\n",
      "[CV 3/5] END max_depth=10, min_samples_leaf=2, min_samples_split=5, n_estimators=200;, score=0.887 total time=  21.8s\n",
      "[CV 3/5] END max_depth=10, min_samples_leaf=1, min_samples_split=5, n_estimators=600;, score=0.888 total time=  43.3s\n",
      "[CV 2/5] END max_depth=20, min_samples_leaf=2, min_samples_split=2, n_estimators=600;, score=0.874 total time=  53.4s\n",
      "[CV 1/5] END max_depth=None, min_samples_leaf=1, min_samples_split=5, n_estimators=700;, score=0.895 total time= 1.2min\n",
      "[CV 2/5] END max_depth=None, min_samples_leaf=1, min_samples_split=5, n_estimators=700;, score=0.881 total time= 1.2min\n",
      "[CV 1/5] END max_depth=30, min_samples_leaf=2, min_samples_split=2, n_estimators=400;, score=0.901 total time=  42.1s\n",
      "[CV 5/5] END max_depth=10, min_samples_leaf=2, min_samples_split=5, n_estimators=200;, score=0.798 total time=  21.9s\n",
      "[CV 4/5] END max_depth=30, min_samples_leaf=2, min_samples_split=2, n_estimators=400;, score=0.860 total time=  44.0s\n",
      "[CV 3/5] END max_depth=10, min_samples_leaf=1, min_samples_split=5, n_estimators=700;, score=0.891 total time=  48.9s\n",
      "[CV 5/5] END max_depth=30, min_samples_leaf=2, min_samples_split=2, n_estimators=400;, score=0.840 total time=  41.6s\n",
      "[CV 4/5] END max_depth=10, min_samples_leaf=1, min_samples_split=5, n_estimators=700;, score=0.846 total time=  48.0s\n",
      "[CV 1/5] END max_depth=20, min_samples_leaf=2, min_samples_split=2, n_estimators=200;, score=0.911 total time=  25.0s\n",
      "[CV 4/5] END max_depth=20, min_samples_leaf=2, min_samples_split=2, n_estimators=200;, score=0.870 total time=  25.6s\n",
      "[CV 1/5] END max_depth=40, min_samples_leaf=2, min_samples_split=2, n_estimators=700;, score=0.908 total time= 1.1min\n",
      "[CV 2/5] END max_depth=40, min_samples_leaf=2, min_samples_split=2, n_estimators=700;, score=0.877 total time= 1.1min\n",
      "[CV 3/5] END max_depth=20, min_samples_leaf=2, min_samples_split=2, n_estimators=200;, score=0.898 total time=  25.4s\n",
      "[CV 3/5] END max_depth=40, min_samples_leaf=2, min_samples_split=2, n_estimators=700;, score=0.904 total time= 1.1min\n",
      "[CV 5/5] END max_depth=10, min_samples_leaf=1, min_samples_split=5, n_estimators=700;, score=0.808 total time=  48.1s\n",
      "[CV 5/5] END max_depth=20, min_samples_leaf=2, min_samples_split=2, n_estimators=200;, score=0.832 total time=  25.3s\n",
      "[CV 4/5] END max_depth=40, min_samples_leaf=2, min_samples_split=2, n_estimators=700;, score=0.870 total time= 1.1min\n",
      "[CV 2/5] END max_depth=20, min_samples_leaf=2, min_samples_split=2, n_estimators=200;, score=0.871 total time=  25.3s\n",
      "[CV 5/5] END max_depth=40, min_samples_leaf=2, min_samples_split=2, n_estimators=700;, score=0.832 total time= 1.1min\n",
      "[CV 3/5] END max_depth=40, min_samples_leaf=2, min_samples_split=5, n_estimators=300;, score=0.910 total time=  34.9s\n",
      "[CV 2/5] END max_depth=None, min_samples_leaf=2, min_samples_split=2, n_estimators=300;, score=0.879 total time=  34.9s\n",
      "[CV 1/5] END max_depth=40, min_samples_leaf=2, min_samples_split=5, n_estimators=300;, score=0.898 total time=  34.7s\n",
      "[CV 5/5] END max_depth=40, min_samples_leaf=2, min_samples_split=5, n_estimators=300;, score=0.829 total time=  35.3s\n",
      "[CV 4/5] END max_depth=None, min_samples_leaf=2, min_samples_split=2, n_estimators=300;, score=0.866 total time=  35.5s\n",
      "[CV 5/5] END max_depth=None, min_samples_leaf=2, min_samples_split=2, n_estimators=300;, score=0.840 total time=  34.7s\n"
     ]
    },
    {
     "name": "stderr",
     "output_type": "stream",
     "text": [
      "IOStream.flush timed out\n"
     ]
    },
    {
     "name": "stdout",
     "output_type": "stream",
     "text": [
      "[CV 2/5] END max_depth=40, min_samples_leaf=2, min_samples_split=5, n_estimators=300;, score=0.877 total time=  34.7s\n",
      "[CV 1/5] END max_depth=10, min_samples_leaf=1, min_samples_split=2, n_estimators=200;, score=0.900 total time=  22.2s\n",
      "[CV 5/5] END max_depth=10, min_samples_leaf=1, min_samples_split=2, n_estimators=200;, score=0.809 total time=  22.1s\n",
      "[CV 1/5] END max_depth=None, min_samples_leaf=2, min_samples_split=2, n_estimators=300;, score=0.908 total time=  34.2s\n",
      "[CV 4/5] END max_depth=10, min_samples_leaf=1, min_samples_split=2, n_estimators=200;, score=0.842 total time=  22.0s\n",
      "[CV 3/5] END max_depth=40, min_samples_leaf=2, min_samples_split=2, n_estimators=600;, score=0.907 total time=  58.5s\n",
      "[CV 2/5] END max_depth=None, min_samples_leaf=1, min_samples_split=5, n_estimators=400;, score=0.879 total time=  46.1s\n",
      "[CV 4/5] END max_depth=40, min_samples_leaf=2, min_samples_split=2, n_estimators=600;, score=0.866 total time= 1.0min\n",
      "[CV 3/5] END max_depth=None, min_samples_leaf=1, min_samples_split=5, n_estimators=400;, score=0.903 total time=  48.4s\n"
     ]
    }
   ],
   "source": [
    "high,low,total,mod_LN1,LNfeats_1= train_and_evaluate(LNglyconorm_split, '1','allgenes_splitLN_1', \n",
    "                                                      full_comp, True)"
   ]
  },
  {
   "cell_type": "code",
   "execution_count": 44,
   "id": "7e84f3e2",
   "metadata": {},
   "outputs": [],
   "source": [
    "with open('fullLNmod_1.pkl', 'wb') as f:\n",
    "    pickle.dump(mod_LN1, f)\n",
    "f.close()\n",
    "\n",
    "with open('fullLNfeats_1.pkl', 'wb') as f:\n",
    "    pickle.dump(LNfeats_1, f)\n",
    "f.close()"
   ]
  },
  {
   "cell_type": "code",
   "execution_count": 45,
   "id": "f4a7ce9d",
   "metadata": {},
   "outputs": [
    {
     "name": "stdout",
     "output_type": "stream",
     "text": [
      "Fitting 5 folds for each of 20 candidates, totalling 100 fits\n"
     ]
    },
    {
     "name": "stderr",
     "output_type": "stream",
     "text": [
      "IOStream.flush timed out\n",
      "/home/erikazhang/miniconda3/lib/python3.10/site-packages/joblib/externals/loky/process_executor.py:700: UserWarning: A worker stopped while some jobs were given to the executor. This can be caused by a too short worker timeout or by a memory leak.\n",
      "  warnings.warn(\n"
     ]
    },
    {
     "name": "stdout",
     "output_type": "stream",
     "text": [
      "[CV 4/5] END max_depth=40, min_samples_leaf=2, min_samples_split=5, n_estimators=300;, score=0.870 total time=  36.2s\n",
      "[CV 3/5] END max_depth=None, min_samples_leaf=2, min_samples_split=2, n_estimators=300;, score=0.898 total time=  35.0s\n",
      "[CV 2/5] END max_depth=10, min_samples_leaf=1, min_samples_split=2, n_estimators=200;, score=0.860 total time=  22.0s\n",
      "[CV 1/5] END max_depth=40, min_samples_leaf=2, min_samples_split=2, n_estimators=600;, score=0.898 total time=  58.9s\n",
      "[CV 5/5] END max_depth=40, min_samples_leaf=2, min_samples_split=2, n_estimators=600;, score=0.839 total time=  59.5s\n",
      "[CV 4/5] END max_depth=None, min_samples_leaf=1, min_samples_split=5, n_estimators=400;, score=0.868 total time=  46.2s\n",
      "[CV 2/5] END max_depth=20, min_samples_leaf=2, min_samples_split=5, n_estimators=400;, score=0.871 total time=  39.5s\n",
      "[CV 1/5] END max_depth=20, min_samples_leaf=2, min_samples_split=5, n_estimators=700;, score=0.901 total time= 1.0min\n",
      "[CV 5/5] END max_depth=20, min_samples_leaf=2, min_samples_split=5, n_estimators=700;, score=0.829 total time= 1.0min\n",
      "[CV 3/5] END max_depth=20, min_samples_leaf=2, min_samples_split=5, n_estimators=400;, score=0.904 total time=  43.6s\n",
      "[CV 2/5] END max_depth=20, min_samples_leaf=2, min_samples_split=5, n_estimators=700;, score=0.876 total time= 1.0min\n",
      "[CV 1/5] END max_depth=10, min_samples_leaf=1, min_samples_split=2, n_estimators=600;, score=0.900 total time=  44.3s\n",
      "[CV 2/5] END max_depth=10, min_samples_leaf=1, min_samples_split=2, n_estimators=600;, score=0.856 total time=  44.1s\n",
      "[CV 3/5] END max_depth=10, min_samples_leaf=1, min_samples_split=2, n_estimators=600;, score=0.887 total time=  43.8s\n",
      "[CV 3/5] END max_depth=10, min_samples_leaf=1, min_samples_split=2, n_estimators=200;, score=0.893 total time=  22.1s\n",
      "[CV 2/5] END max_depth=40, min_samples_leaf=2, min_samples_split=2, n_estimators=600;, score=0.874 total time=  58.6s\n",
      "[CV 1/5] END max_depth=None, min_samples_leaf=1, min_samples_split=5, n_estimators=400;, score=0.903 total time=  46.8s\n",
      "[CV 5/5] END max_depth=None, min_samples_leaf=1, min_samples_split=5, n_estimators=400;, score=0.837 total time=  46.1s\n",
      "[CV 1/5] END max_depth=20, min_samples_leaf=2, min_samples_split=5, n_estimators=400;, score=0.903 total time=  38.9s\n",
      "[CV 5/5] END max_depth=20, min_samples_leaf=2, min_samples_split=5, n_estimators=400;, score=0.833 total time=  39.7s\n",
      "[CV 4/5] END max_depth=20, min_samples_leaf=2, min_samples_split=5, n_estimators=700;, score=0.864 total time= 1.0min\n"
     ]
    },
    {
     "name": "stderr",
     "output_type": "stream",
     "text": [
      "IOStream.flush timed out\n"
     ]
    },
    {
     "name": "stdout",
     "output_type": "stream",
     "text": [
      "[CV 5/5] END max_depth=10, min_samples_leaf=1, min_samples_split=2, n_estimators=600;, score=0.819 total time=  42.8s\n",
      "[CV 2/5] END max_depth=30, min_samples_leaf=1, min_samples_split=5, n_estimators=300;, score=0.871 total time=  35.9s\n",
      "[CV 1/5] END max_depth=20, min_samples_leaf=1, min_samples_split=2, n_estimators=400;, score=0.898 total time=  41.2s\n",
      "[CV 2/5] END max_depth=20, min_samples_leaf=1, min_samples_split=2, n_estimators=400;, score=0.864 total time=  40.8s\n",
      "[CV 5/5] END max_depth=20, min_samples_leaf=1, min_samples_split=2, n_estimators=400;, score=0.830 total time=  41.1s\n",
      "[CV 4/5] END max_depth=30, min_samples_leaf=1, min_samples_split=5, n_estimators=300;, score=0.864 total time=  37.2s\n",
      "[CV 3/5] END max_depth=20, min_samples_leaf=1, min_samples_split=2, n_estimators=400;, score=0.900 total time=  41.8s\n",
      "[CV 2/5] END max_depth=30, min_samples_leaf=2, min_samples_split=2, n_estimators=600;, score=0.873 total time=  57.1s\n",
      "[CV 4/5] END max_depth=20, min_samples_leaf=2, min_samples_split=5, n_estimators=400;, score=0.863 total time=  39.5s\n",
      "[CV 3/5] END max_depth=20, min_samples_leaf=2, min_samples_split=5, n_estimators=700;, score=0.903 total time= 1.0min\n",
      "[CV 1/5] END max_depth=30, min_samples_leaf=1, min_samples_split=5, n_estimators=300;, score=0.897 total time=  37.3s\n",
      "[CV 5/5] END max_depth=30, min_samples_leaf=1, min_samples_split=5, n_estimators=300;, score=0.843 total time=  37.3s\n",
      "[CV 4/5] END max_depth=20, min_samples_leaf=1, min_samples_split=2, n_estimators=400;, score=0.876 total time=  41.4s\n",
      "[CV 3/5] END max_depth=30, min_samples_leaf=2, min_samples_split=2, n_estimators=600;, score=0.901 total time=  59.8s\n",
      "[CV 2/5] END max_depth=40, min_samples_leaf=1, min_samples_split=2, n_estimators=300;, score=0.879 total time=  37.2s\n",
      "[CV 4/5] END max_depth=10, min_samples_leaf=1, min_samples_split=2, n_estimators=600;, score=0.853 total time=  43.1s\n",
      "[CV 3/5] END max_depth=30, min_samples_leaf=1, min_samples_split=5, n_estimators=300;, score=0.908 total time=  36.9s\n",
      "[CV 1/5] END max_depth=30, min_samples_leaf=2, min_samples_split=2, n_estimators=600;, score=0.903 total time=  59.0s\n",
      "[CV 5/5] END max_depth=30, min_samples_leaf=2, min_samples_split=2, n_estimators=600;, score=0.833 total time=  58.4s\n",
      "[CV 4/5] END max_depth=40, min_samples_leaf=1, min_samples_split=2, n_estimators=300;, score=0.866 total time=  38.6s\n",
      "[CV 3/5] END max_depth=40, min_samples_leaf=1, min_samples_split=2, n_estimators=300;, score=0.910 total time=  38.0s\n",
      "[CV 4/5] END max_depth=30, min_samples_leaf=2, min_samples_split=2, n_estimators=600;, score=0.868 total time=  58.9s\n",
      "[CV 2/5] END max_depth=10, min_samples_leaf=1, min_samples_split=5, n_estimators=600;, score=0.857 total time=  44.4s\n",
      "[CV 1/5] END max_depth=10, min_samples_leaf=1, min_samples_split=5, n_estimators=600;, score=0.900 total time=  43.1s\n",
      "[CV 5/5] END max_depth=10, min_samples_leaf=1, min_samples_split=5, n_estimators=600;, score=0.813 total time=  43.2s\n",
      "[CV 3/5] END max_depth=20, min_samples_leaf=2, min_samples_split=2, n_estimators=600;, score=0.903 total time=  54.9s\n",
      "[CV 2/5] END max_depth=None, min_samples_leaf=1, min_samples_split=5, n_estimators=700;, score=0.881 total time= 1.3min\n",
      "[CV 1/5] END max_depth=20, min_samples_leaf=2, min_samples_split=2, n_estimators=600;, score=0.905 total time=  55.5s\n",
      "[CV 5/5] END max_depth=20, min_samples_leaf=2, min_samples_split=2, n_estimators=600;, score=0.829 total time=  53.4s\n",
      "[CV 4/5] END max_depth=None, min_samples_leaf=1, min_samples_split=5, n_estimators=700;, score=0.874 total time= 1.2min\n",
      "[CV 3/5] END max_depth=10, min_samples_leaf=1, min_samples_split=5, n_estimators=600;, score=0.893 total time=  43.1s\n",
      "[CV 2/5] END max_depth=20, min_samples_leaf=2, min_samples_split=2, n_estimators=600;, score=0.877 total time=  55.3s\n",
      "[CV 1/5] END max_depth=None, min_samples_leaf=1, min_samples_split=5, n_estimators=700;, score=0.901 total time= 1.3min\n",
      "[CV 1/5] END max_depth=40, min_samples_leaf=1, min_samples_split=2, n_estimators=300;, score=0.900 total time=  37.9s\n",
      "[CV 5/5] END max_depth=40, min_samples_leaf=1, min_samples_split=2, n_estimators=300;, score=0.847 total time=  37.3s\n",
      "[CV 4/5] END max_depth=10, min_samples_leaf=1, min_samples_split=5, n_estimators=600;, score=0.844 total time=  43.0s\n",
      "[CV 4/5] END max_depth=20, min_samples_leaf=2, min_samples_split=2, n_estimators=600;, score=0.860 total time=  53.6s\n",
      "[CV 3/5] END max_depth=None, min_samples_leaf=1, min_samples_split=5, n_estimators=700;, score=0.905 total time= 1.3min\n",
      "[CV 3/5] END max_depth=10, min_samples_leaf=2, min_samples_split=5, n_estimators=200;, score=0.886 total time=  21.3s\n",
      "[CV 1/5] END max_depth=10, min_samples_leaf=2, min_samples_split=5, n_estimators=200;, score=0.894 total time=  21.7s\n",
      "[CV 2/5] END max_depth=10, min_samples_leaf=2, min_samples_split=5, n_estimators=200;, score=0.860 total time=  21.4s\n",
      "[CV 5/5] END max_depth=None, min_samples_leaf=1, min_samples_split=5, n_estimators=700;, score=0.839 total time= 1.2min\n",
      "[CV 1/5] END max_depth=30, min_samples_leaf=2, min_samples_split=2, n_estimators=400;, score=0.904 total time=  42.4s\n",
      "[CV 2/5] END max_depth=30, min_samples_leaf=2, min_samples_split=2, n_estimators=400;, score=0.880 total time=  41.7s\n",
      "[CV 1/5] END max_depth=10, min_samples_leaf=1, min_samples_split=5, n_estimators=700;, score=0.904 total time=  48.0s\n",
      "[CV 5/5] END max_depth=30, min_samples_leaf=2, min_samples_split=2, n_estimators=400;, score=0.840 total time=  42.1s\n",
      "[CV 4/5] END max_depth=10, min_samples_leaf=1, min_samples_split=5, n_estimators=700;, score=0.846 total time=  48.1s\n",
      "[CV 5/5] END max_depth=10, min_samples_leaf=1, min_samples_split=5, n_estimators=700;, score=0.816 total time=  47.8s\n",
      "[CV 4/5] END max_depth=10, min_samples_leaf=2, min_samples_split=5, n_estimators=200;, score=0.846 total time=  21.6s\n",
      "[CV 3/5] END max_depth=30, min_samples_leaf=2, min_samples_split=2, n_estimators=400;, score=0.908 total time=  42.1s\n",
      "[CV 2/5] END max_depth=10, min_samples_leaf=1, min_samples_split=5, n_estimators=700;, score=0.859 total time=  48.4s\n",
      "[CV 1/5] END max_depth=20, min_samples_leaf=2, min_samples_split=2, n_estimators=200;, score=0.907 total time=  25.2s\n",
      "[CV 5/5] END max_depth=20, min_samples_leaf=2, min_samples_split=2, n_estimators=200;, score=0.827 total time=  26.0s\n",
      "[CV 3/5] END max_depth=20, min_samples_leaf=2, min_samples_split=2, n_estimators=200;, score=0.900 total time=  25.4s\n",
      "[CV 2/5] END max_depth=40, min_samples_leaf=2, min_samples_split=2, n_estimators=700;, score=0.879 total time= 1.1min\n",
      "[CV 4/5] END max_depth=20, min_samples_leaf=2, min_samples_split=2, n_estimators=200;, score=0.867 total time=  25.5s\n",
      "[CV 3/5] END max_depth=40, min_samples_leaf=2, min_samples_split=2, n_estimators=700;, score=0.901 total time= 1.1min\n",
      "[CV 4/5] END max_depth=40, min_samples_leaf=2, min_samples_split=2, n_estimators=700;, score=0.868 total time= 1.1min\n"
     ]
    },
    {
     "name": "stderr",
     "output_type": "stream",
     "text": [
      "IOStream.flush timed out\n"
     ]
    },
    {
     "name": "stdout",
     "output_type": "stream",
     "text": [
      "[CV 5/5] END max_depth=10, min_samples_leaf=2, min_samples_split=5, n_estimators=200;, score=0.806 total time=  21.6s\n",
      "[CV 4/5] END max_depth=30, min_samples_leaf=2, min_samples_split=2, n_estimators=400;, score=0.859 total time=  42.7s\n",
      "[CV 3/5] END max_depth=10, min_samples_leaf=1, min_samples_split=5, n_estimators=700;, score=0.893 total time=  48.6s\n",
      "[CV 2/5] END max_depth=20, min_samples_leaf=2, min_samples_split=2, n_estimators=200;, score=0.873 total time=  25.3s\n",
      "[CV 1/5] END max_depth=40, min_samples_leaf=2, min_samples_split=2, n_estimators=700;, score=0.904 total time= 1.1min\n",
      "[CV 1/5] END max_depth=40, min_samples_leaf=2, min_samples_split=5, n_estimators=300;, score=0.903 total time=  35.2s\n",
      "[CV 5/5] END max_depth=40, min_samples_leaf=2, min_samples_split=5, n_estimators=300;, score=0.844 total time=  34.9s\n"
     ]
    },
    {
     "name": "stderr",
     "output_type": "stream",
     "text": [
      "IOStream.flush timed out\n"
     ]
    },
    {
     "name": "stdout",
     "output_type": "stream",
     "text": [
      "[CV 3/5] END max_depth=None, min_samples_leaf=2, min_samples_split=2, n_estimators=300;, score=0.904 total time=  35.6s\n",
      "[CV 5/5] END max_depth=40, min_samples_leaf=2, min_samples_split=2, n_estimators=700;, score=0.829 total time= 1.1min\n",
      "[CV 4/5] END max_depth=40, min_samples_leaf=2, min_samples_split=5, n_estimators=300;, score=0.859 total time=  34.8s\n",
      "[CV 4/5] END max_depth=None, min_samples_leaf=2, min_samples_split=2, n_estimators=300;, score=0.866 total time=  35.3s\n",
      "[CV 2/5] END max_depth=10, min_samples_leaf=1, min_samples_split=2, n_estimators=200;, score=0.857 total time=  21.7s\n",
      "[CV 1/5] END max_depth=40, min_samples_leaf=2, min_samples_split=2, n_estimators=600;, score=0.903 total time=  58.4s\n",
      "[CV 5/5] END max_depth=40, min_samples_leaf=2, min_samples_split=2, n_estimators=600;, score=0.836 total time= 1.0min\n",
      "[CV 2/5] END max_depth=40, min_samples_leaf=2, min_samples_split=5, n_estimators=300;, score=0.880 total time=  34.6s\n",
      "[CV 1/5] END max_depth=None, min_samples_leaf=2, min_samples_split=2, n_estimators=300;, score=0.898 total time=  34.3s\n",
      "[CV 5/5] END max_depth=None, min_samples_leaf=2, min_samples_split=2, n_estimators=300;, score=0.840 total time=  34.9s\n",
      "[CV 4/5] END max_depth=10, min_samples_leaf=1, min_samples_split=2, n_estimators=200;, score=0.854 total time=  22.1s\n",
      "[CV 3/5] END max_depth=40, min_samples_leaf=2, min_samples_split=2, n_estimators=600;, score=0.903 total time=  59.6s\n",
      "[CV 2/5] END max_depth=None, min_samples_leaf=1, min_samples_split=5, n_estimators=400;, score=0.881 total time=  46.7s\n",
      "[CV 3/5] END max_depth=40, min_samples_leaf=2, min_samples_split=5, n_estimators=300;, score=0.910 total time=  35.7s\n",
      "[CV 2/5] END max_depth=None, min_samples_leaf=2, min_samples_split=2, n_estimators=300;, score=0.870 total time=  34.6s\n",
      "[CV 1/5] END max_depth=10, min_samples_leaf=1, min_samples_split=2, n_estimators=200;, score=0.898 total time=  22.0s\n",
      "[CV 5/5] END max_depth=10, min_samples_leaf=1, min_samples_split=2, n_estimators=200;, score=0.808 total time=  22.2s\n",
      "[CV 4/5] END max_depth=40, min_samples_leaf=2, min_samples_split=2, n_estimators=600;, score=0.866 total time=  59.0s\n",
      "[CV 3/5] END max_depth=None, min_samples_leaf=1, min_samples_split=5, n_estimators=400;, score=0.912 total time=  46.1s\n"
     ]
    }
   ],
   "source": [
    "high,low,total,mod_LN2,LNfeats_2= train_and_evaluate(LNglyconorm_split, '2','allgenes_splitLN_2', \n",
    "                                                      full_comp, True)"
   ]
  },
  {
   "cell_type": "code",
   "execution_count": 46,
   "id": "bf7de908",
   "metadata": {},
   "outputs": [],
   "source": [
    "with open('fullLNmod_2.pkl', 'wb') as f:\n",
    "    pickle.dump(mod_LN2, f)\n",
    "f.close()\n",
    "\n",
    "with open('fullLNfeats_2.pkl', 'wb') as f:\n",
    "    pickle.dump(LNfeats_2, f)\n",
    "f.close()"
   ]
  },
  {
   "cell_type": "code",
   "execution_count": 47,
   "id": "6a02fa4e",
   "metadata": {},
   "outputs": [
    {
     "name": "stdout",
     "output_type": "stream",
     "text": [
      "Fitting 5 folds for each of 20 candidates, totalling 100 fits\n",
      "[CV 3/5] END max_depth=10, min_samples_leaf=1, min_samples_split=2, n_estimators=200;, score=0.888 total time=  22.6s\n",
      "[CV 2/5] END max_depth=40, min_samples_leaf=2, min_samples_split=2, n_estimators=600;, score=0.871 total time=  59.6s\n",
      "[CV 1/5] END max_depth=None, min_samples_leaf=1, min_samples_split=5, n_estimators=400;, score=0.904 total time=  45.2s\n",
      "[CV 5/5] END max_depth=None, min_samples_leaf=1, min_samples_split=5, n_estimators=400;, score=0.849 total time=  45.1s\n"
     ]
    },
    {
     "name": "stderr",
     "output_type": "stream",
     "text": [
      "/home/erikazhang/miniconda3/lib/python3.10/site-packages/joblib/externals/loky/process_executor.py:700: UserWarning: A worker stopped while some jobs were given to the executor. This can be caused by a too short worker timeout or by a memory leak.\n",
      "  warnings.warn(\n"
     ]
    },
    {
     "name": "stdout",
     "output_type": "stream",
     "text": [
      "[CV 2/5] END max_depth=20, min_samples_leaf=2, min_samples_split=5, n_estimators=400;, score=0.908 total time=  39.1s\n",
      "[CV 1/5] END max_depth=20, min_samples_leaf=2, min_samples_split=5, n_estimators=700;, score=0.900 total time= 1.0min\n",
      "[CV 4/5] END max_depth=20, min_samples_leaf=2, min_samples_split=5, n_estimators=400;, score=0.874 total time=  38.9s\n",
      "[CV 3/5] END max_depth=20, min_samples_leaf=2, min_samples_split=5, n_estimators=700;, score=0.907 total time= 1.0min\n",
      "[CV 3/5] END max_depth=20, min_samples_leaf=2, min_samples_split=5, n_estimators=400;, score=0.908 total time=  39.8s\n",
      "[CV 2/5] END max_depth=20, min_samples_leaf=2, min_samples_split=5, n_estimators=700;, score=0.907 total time= 1.0min\n",
      "[CV 1/5] END max_depth=10, min_samples_leaf=1, min_samples_split=2, n_estimators=600;, score=0.904 total time=  43.4s\n",
      "[CV 5/5] END max_depth=10, min_samples_leaf=1, min_samples_split=2, n_estimators=600;, score=0.781 total time=  42.8s\n",
      "[CV 5/5] END max_depth=20, min_samples_leaf=2, min_samples_split=5, n_estimators=700;, score=0.799 total time=  59.7s\n",
      "[CV 4/5] END max_depth=10, min_samples_leaf=1, min_samples_split=2, n_estimators=600;, score=0.853 total time=  42.9s\n",
      "[CV 3/5] END max_depth=30, min_samples_leaf=1, min_samples_split=5, n_estimators=300;, score=0.910 total time=  36.5s\n",
      "[CV 2/5] END max_depth=20, min_samples_leaf=1, min_samples_split=2, n_estimators=400;, score=0.905 total time=  41.1s\n",
      "[CV 1/5] END max_depth=30, min_samples_leaf=2, min_samples_split=2, n_estimators=600;, score=0.903 total time=  58.7s\n",
      "[CV 2/5] END max_depth=10, min_samples_leaf=1, min_samples_split=2, n_estimators=600;, score=0.898 total time=  43.2s\n",
      "[CV 1/5] END max_depth=30, min_samples_leaf=1, min_samples_split=5, n_estimators=300;, score=0.900 total time=  36.5s\n",
      "[CV 5/5] END max_depth=30, min_samples_leaf=1, min_samples_split=5, n_estimators=300;, score=0.809 total time=  35.9s\n",
      "[CV 4/5] END max_depth=20, min_samples_leaf=1, min_samples_split=2, n_estimators=400;, score=0.867 total time=  40.8s\n",
      "[CV 3/5] END max_depth=30, min_samples_leaf=2, min_samples_split=2, n_estimators=600;, score=0.912 total time=  58.5s\n",
      "[CV 4/5] END max_depth=30, min_samples_leaf=2, min_samples_split=2, n_estimators=600;, score=0.877 total time=  58.1s\n",
      "[CV 2/5] END max_depth=40, min_samples_leaf=1, min_samples_split=2, n_estimators=300;, score=0.912 total time=  37.6s\n",
      "[CV 4/5] END max_depth=None, min_samples_leaf=1, min_samples_split=5, n_estimators=400;, score=0.868 total time=  46.8s\n",
      "[CV 1/5] END max_depth=20, min_samples_leaf=2, min_samples_split=5, n_estimators=400;, score=0.901 total time=  39.7s\n",
      "[CV 5/5] END max_depth=20, min_samples_leaf=2, min_samples_split=5, n_estimators=400;, score=0.803 total time=  40.0s\n",
      "[CV 4/5] END max_depth=20, min_samples_leaf=2, min_samples_split=5, n_estimators=700;, score=0.870 total time=  60.0s\n",
      "[CV 3/5] END max_depth=10, min_samples_leaf=1, min_samples_split=2, n_estimators=600;, score=0.901 total time=  44.1s\n",
      "[CV 2/5] END max_depth=30, min_samples_leaf=1, min_samples_split=5, n_estimators=300;, score=0.912 total time=  35.8s\n",
      "[CV 1/5] END max_depth=20, min_samples_leaf=1, min_samples_split=2, n_estimators=400;, score=0.898 total time=  40.2s\n",
      "[CV 5/5] END max_depth=20, min_samples_leaf=1, min_samples_split=2, n_estimators=400;, score=0.801 total time=  40.2s\n",
      "[CV 5/5] END max_depth=30, min_samples_leaf=2, min_samples_split=2, n_estimators=600;, score=0.793 total time=  57.2s\n",
      "[CV 4/5] END max_depth=40, min_samples_leaf=1, min_samples_split=2, n_estimators=300;, score=0.877 total time=  39.7s\n",
      "[CV 3/5] END max_depth=40, min_samples_leaf=1, min_samples_split=2, n_estimators=300;, score=0.910 total time=  38.6s\n",
      "[CV 2/5] END max_depth=10, min_samples_leaf=1, min_samples_split=5, n_estimators=600;, score=0.898 total time=  43.4s\n",
      "[CV 1/5] END max_depth=10, min_samples_leaf=1, min_samples_split=5, n_estimators=600;, score=0.900 total time=  42.9s\n",
      "[CV 5/5] END max_depth=10, min_samples_leaf=1, min_samples_split=5, n_estimators=600;, score=0.781 total time=  42.4s\n",
      "[CV 5/5] END max_depth=40, min_samples_leaf=1, min_samples_split=2, n_estimators=300;, score=0.791 total time=  37.9s\n",
      "[CV 4/5] END max_depth=10, min_samples_leaf=1, min_samples_split=5, n_estimators=600;, score=0.854 total time=  43.3s\n",
      "[CV 3/5] END max_depth=20, min_samples_leaf=2, min_samples_split=2, n_estimators=600;, score=0.910 total time=  53.2s\n"
     ]
    },
    {
     "name": "stderr",
     "output_type": "stream",
     "text": [
      "IOStream.flush timed out\n"
     ]
    },
    {
     "name": "stdout",
     "output_type": "stream",
     "text": [
      "[CV 3/5] END max_depth=10, min_samples_leaf=1, min_samples_split=5, n_estimators=600;, score=0.904 total time=  42.9s\n",
      "[CV 2/5] END max_depth=20, min_samples_leaf=2, min_samples_split=2, n_estimators=600;, score=0.905 total time=  53.6s\n",
      "[CV 1/5] END max_depth=None, min_samples_leaf=1, min_samples_split=5, n_estimators=700;, score=0.901 total time= 1.2min\n",
      "[CV 1/5] END max_depth=10, min_samples_leaf=2, min_samples_split=5, n_estimators=200;, score=0.900 total time=  21.5s\n",
      "[CV 4/5] END max_depth=20, min_samples_leaf=2, min_samples_split=2, n_estimators=600;, score=0.867 total time=  53.7s\n",
      "[CV 3/5] END max_depth=None, min_samples_leaf=1, min_samples_split=5, n_estimators=700;, score=0.914 total time= 1.3min\n",
      "[CV 5/5] END max_depth=None, min_samples_leaf=1, min_samples_split=5, n_estimators=700;, score=0.815 total time= 1.2min\n",
      "[CV 1/5] END max_depth=20, min_samples_leaf=2, min_samples_split=2, n_estimators=600;, score=0.901 total time=  53.9s\n",
      "[CV 5/5] END max_depth=20, min_samples_leaf=2, min_samples_split=2, n_estimators=600;, score=0.792 total time=  55.0s\n",
      "[CV 4/5] END max_depth=None, min_samples_leaf=1, min_samples_split=5, n_estimators=700;, score=0.878 total time= 1.3min\n",
      "[CV 4/5] END max_depth=10, min_samples_leaf=2, min_samples_split=5, n_estimators=200;, score=0.854 total time=  21.7s\n",
      "[CV 3/5] END max_depth=30, min_samples_leaf=2, min_samples_split=2, n_estimators=400;, score=0.910 total time=  43.8s\n",
      "[CV 4/5] END max_depth=30, min_samples_leaf=2, min_samples_split=2, n_estimators=400;, score=0.880 total time=  42.7s\n",
      "[CV 2/5] END max_depth=None, min_samples_leaf=1, min_samples_split=5, n_estimators=700;, score=0.905 total time= 1.2min\n",
      "[CV 2/5] END max_depth=10, min_samples_leaf=2, min_samples_split=5, n_estimators=200;, score=0.897 total time=  21.6s\n",
      "[CV 1/5] END max_depth=30, min_samples_leaf=2, min_samples_split=2, n_estimators=400;, score=0.904 total time=  42.1s\n",
      "[CV 5/5] END max_depth=30, min_samples_leaf=2, min_samples_split=2, n_estimators=400;, score=0.796 total time=  42.3s\n",
      "[CV 2/5] END max_depth=10, min_samples_leaf=1, min_samples_split=5, n_estimators=700;, score=0.898 total time=  48.1s\n",
      "[CV 5/5] END max_depth=10, min_samples_leaf=2, min_samples_split=5, n_estimators=200;, score=0.777 total time=  21.7s\n",
      "[CV 3/5] END max_depth=10, min_samples_leaf=1, min_samples_split=5, n_estimators=700;, score=0.894 total time=  47.7s\n",
      "[CV 3/5] END max_depth=10, min_samples_leaf=2, min_samples_split=5, n_estimators=200;, score=0.903 total time=  21.4s\n",
      "[CV 2/5] END max_depth=30, min_samples_leaf=2, min_samples_split=2, n_estimators=400;, score=0.910 total time=  41.7s\n",
      "[CV 1/5] END max_depth=10, min_samples_leaf=1, min_samples_split=5, n_estimators=700;, score=0.905 total time=  48.4s\n",
      "[CV 5/5] END max_depth=10, min_samples_leaf=1, min_samples_split=5, n_estimators=700;, score=0.778 total time=  47.8s\n",
      "[CV 2/5] END max_depth=20, min_samples_leaf=2, min_samples_split=2, n_estimators=200;, score=0.903 total time=  25.5s\n",
      "[CV 1/5] END max_depth=40, min_samples_leaf=2, min_samples_split=2, n_estimators=700;, score=0.903 total time= 1.1min\n",
      "[CV 4/5] END max_depth=10, min_samples_leaf=1, min_samples_split=5, n_estimators=700;, score=0.850 total time=  47.6s\n",
      "[CV 3/5] END max_depth=20, min_samples_leaf=2, min_samples_split=2, n_estimators=200;, score=0.905 total time=  25.2s\n",
      "[CV 2/5] END max_depth=40, min_samples_leaf=2, min_samples_split=2, n_estimators=700;, score=0.910 total time= 1.1min\n",
      "[CV 4/5] END max_depth=40, min_samples_leaf=2, min_samples_split=2, n_estimators=700;, score=0.878 total time= 1.1min\n",
      "[CV 5/5] END max_depth=40, min_samples_leaf=2, min_samples_split=2, n_estimators=700;, score=0.803 total time= 1.2min\n",
      "[CV 2/5] END max_depth=40, min_samples_leaf=2, min_samples_split=5, n_estimators=300;, score=0.904 total time=  35.5s\n",
      "[CV 4/5] END max_depth=20, min_samples_leaf=2, min_samples_split=2, n_estimators=200;, score=0.874 total time=  25.2s\n",
      "[CV 3/5] END max_depth=40, min_samples_leaf=2, min_samples_split=2, n_estimators=700;, score=0.911 total time= 1.2min\n",
      "[CV 1/5] END max_depth=20, min_samples_leaf=2, min_samples_split=2, n_estimators=200;, score=0.898 total time=  25.1s\n",
      "[CV 5/5] END max_depth=20, min_samples_leaf=2, min_samples_split=2, n_estimators=200;, score=0.779 total time=  25.4s\n",
      "[CV 4/5] END max_depth=40, min_samples_leaf=2, min_samples_split=5, n_estimators=300;, score=0.877 total time=  35.0s\n",
      "[CV 3/5] END max_depth=40, min_samples_leaf=2, min_samples_split=5, n_estimators=300;, score=0.908 total time=  35.2s\n",
      "[CV 3/5] END max_depth=None, min_samples_leaf=2, min_samples_split=2, n_estimators=300;, score=0.910 total time=  35.6s\n",
      "[CV 1/5] END max_depth=40, min_samples_leaf=2, min_samples_split=5, n_estimators=300;, score=0.898 total time=  34.9s\n",
      "[CV 5/5] END max_depth=40, min_samples_leaf=2, min_samples_split=5, n_estimators=300;, score=0.795 total time=  35.0s\n",
      "[CV 4/5] END max_depth=None, min_samples_leaf=2, min_samples_split=2, n_estimators=300;, score=0.870 total time=  35.6s\n",
      "[CV 3/5] END max_depth=10, min_samples_leaf=1, min_samples_split=2, n_estimators=200;, score=0.898 total time=  22.2s\n",
      "[CV 1/5] END max_depth=10, min_samples_leaf=1, min_samples_split=2, n_estimators=200;, score=0.903 total time=  22.0s\n",
      "[CV 1/5] END max_depth=None, min_samples_leaf=2, min_samples_split=2, n_estimators=300;, score=0.907 total time=  34.3s\n",
      "[CV 5/5] END max_depth=None, min_samples_leaf=2, min_samples_split=2, n_estimators=300;, score=0.798 total time=  34.9s\n",
      "[CV 4/5] END max_depth=10, min_samples_leaf=1, min_samples_split=2, n_estimators=200;, score=0.843 total time=  22.4s\n",
      "[CV 3/5] END max_depth=40, min_samples_leaf=2, min_samples_split=2, n_estimators=600;, score=0.911 total time=  58.9s\n",
      "[CV 2/5] END max_depth=None, min_samples_leaf=2, min_samples_split=2, n_estimators=300;, score=0.904 total time=  34.6s\n",
      "[CV 5/5] END max_depth=10, min_samples_leaf=1, min_samples_split=2, n_estimators=200;, score=0.778 total time=  22.3s\n",
      "[CV 4/5] END max_depth=40, min_samples_leaf=2, min_samples_split=2, n_estimators=600;, score=0.876 total time=  58.9s\n",
      "[CV 2/5] END max_depth=None, min_samples_leaf=1, min_samples_split=5, n_estimators=400;, score=0.908 total time=  46.0s\n",
      "[CV 3/5] END max_depth=None, min_samples_leaf=1, min_samples_split=5, n_estimators=400;, score=0.914 total time=  48.0s\n"
     ]
    }
   ],
   "source": [
    "high,low,total,mod_LN3,LNfeats_3= train_and_evaluate(LNglyconorm_split, '3','allgenes_splitLN_3', \n",
    "                                                      full_comp, True)"
   ]
  },
  {
   "cell_type": "code",
   "execution_count": 48,
   "id": "74485391",
   "metadata": {},
   "outputs": [],
   "source": [
    "with open('fullLNmod_3.pkl', 'wb') as f:\n",
    "    pickle.dump(mod_LN3, f)\n",
    "f.close()\n",
    "\n",
    "with open('fullLNfeats_3.pkl', 'wb') as f:\n",
    "    pickle.dump(LNfeats_3, f)\n",
    "f.close()"
   ]
  },
  {
   "cell_type": "markdown",
   "id": "ce578c78",
   "metadata": {},
   "source": [
    "# Random Forest Clustering using all T-cells but only glycogenes, with and without housekeeping genes\n",
    "Referenced:\n",
    "https://github.com/BojarLab/scGlycomics_b16_branching/blob/main/Random%20Forest%20-%20Apr%208%202022%20-%20RQ.ipynb\n",
    "\n",
    "Full dataframe containing all genes and all T cells were split by cells into three equally sized datasets.\n",
    "Each third was filtered for just the 214 glycogenes.\n",
    "Models were trained on one third and tested on remaining two thirds for each subset of the dataset."
   ]
  },
  {
   "cell_type": "code",
   "execution_count": 57,
   "id": "97dfa361",
   "metadata": {},
   "outputs": [],
   "source": [
    "'''Load glycosorted, normalized dataframe from pickle, saved from glycogene filtering raw.ipynb\n",
    "\n",
    "Dataframes (glycoTIL_df and glycoLN_df) have:\n",
    "- gene names as columns (241 glycogenes,housekeeping incl.) +columns for type, biotin, PHA-L = 244 columns total\n",
    "- cell barcodes as row index, for cells identified as T-cells via ProjecTILs package in R\n",
    "- genes are columns, NORMALIZED via robust scaler +3 columns for info \n",
    "'''\n",
    "\n",
    "pickle_in = open(\"glycoTIL_normscored_split.pkl\",\"rb\")\n",
    "glycoTIL_normscored_split = pickle.load(pickle_in)\n",
    "\n",
    "pickle_in = open(\"glycoLN_normscored_split.pkl\",\"rb\")\n",
    "glycoLN_normscored_split = pickle.load(pickle_in)"
   ]
  },
  {
   "cell_type": "code",
   "execution_count": 62,
   "id": "8f77500f",
   "metadata": {},
   "outputs": [],
   "source": [
    "# make dataframe comparing effect of housekeeping genes on prediction via glycogenes\n",
    "cols = {\"Model\": [], \"PHA-L high accuracy\": [], \"PHA-L low accuracy\": [], \n",
    "        \"Overall accuracy\": [], 'Top 5 features': [], 'Average loss': [], \n",
    "        'ROC AUC score': [], 'F1 score': []}\n",
    "hk_comp = pd.DataFrame(columns = cols)"
   ]
  },
  {
   "cell_type": "code",
   "execution_count": 81,
   "id": "475b1b10",
   "metadata": {},
   "outputs": [],
   "source": [
    "#Remove housekeeping genes\n",
    "housekeeping_list = ['Ahsa1', 'Api5', 'Atp6v1e1', 'Bcap31', 'Cops6', 'Csnk2b', 'Eif3i', 'Eif4g2', 'Gdi2', 'Hnrnpf', \n",
    "                     'Hnrnph1', 'Hnrnph2', 'Ilf2', 'Dnajc5', 'Ncl', 'Otub1', 'Pdap1', 'Polr2f', 'Rhoa', 'Srp14', \n",
    "                     'Srrm1', 'Timm44', 'Ttc1', 'Ywhab', 'Pdcd6']\n",
    "\n",
    "glycoTIL_normscored_split_nohk = glycoTIL_normscored_split.copy()\n",
    "\n",
    "for key in list(glycoTIL_normscored_split_nohk.keys()):\n",
    "    df = glycoTIL_normscored_split_nohk[key]\n",
    "    cols_to_remove = df.columns.intersection(housekeeping_list)\n",
    "    df.drop(columns=cols_to_remove, inplace=True) #now have 216 glycogenes\n",
    "    df = df.loc[:, ~df.columns.duplicated()]\n",
    "\n",
    "    glycoTIL_normscored_split_nohk[key] = df\n",
    "\n",
    "glycoLN_normscored_split_nohk = glycoLN_normscored_split.copy()\n",
    "    \n",
    "for key in list(glycoLN_normscored_split_nohk.keys()):\n",
    "    df = glycoLN_normscored_split_nohk[key]\n",
    "    cols_to_remove = df.columns.intersection(housekeeping_list)\n",
    "    df.drop(columns=cols_to_remove, inplace=True) #now have 216 glycogenes\n",
    "    df = df.loc[:, ~df.columns.duplicated()]\n",
    "    glycoLN_normscored_split_nohk[key] = df"
   ]
  },
  {
   "cell_type": "code",
   "execution_count": 84,
   "id": "83860080",
   "metadata": {},
   "outputs": [
    {
     "name": "stdout",
     "output_type": "stream",
     "text": [
      "Fitting 5 folds for each of 20 candidates, totalling 100 fits\n"
     ]
    }
   ],
   "source": [
    "high,low,total,mod_glycoTIL1,glycoTILfeats_1 = train_and_evaluate(glycoTIL_normscored_split_nohk, '1',\n",
    "                                                                  'glyco_splitTIL_1',hk_comp, True)"
   ]
  },
  {
   "cell_type": "code",
   "execution_count": 85,
   "id": "bec42b2c",
   "metadata": {},
   "outputs": [
    {
     "name": "stdout",
     "output_type": "stream",
     "text": [
      "Fitting 5 folds for each of 20 candidates, totalling 100 fits\n"
     ]
    }
   ],
   "source": [
    "high,low,total,mod_glycoTIL2,glycoTILfeats_2 = train_and_evaluate(glycoTIL_normscored_split_nohk, '2',\n",
    "                                                                  'glyco_splitTIL_2',hk_comp, True)"
   ]
  },
  {
   "cell_type": "code",
   "execution_count": 86,
   "id": "26414599",
   "metadata": {},
   "outputs": [
    {
     "name": "stdout",
     "output_type": "stream",
     "text": [
      "Fitting 5 folds for each of 20 candidates, totalling 100 fits\n"
     ]
    }
   ],
   "source": [
    "high,low,total,mod_glycoTIL3,glycoTILfeats_3 = train_and_evaluate(glycoTIL_normscored_split_nohk, '3',\n",
    "                                                                  'glyco_splitTIL_3',hk_comp, True)"
   ]
  },
  {
   "cell_type": "code",
   "execution_count": 87,
   "id": "9403dfb1",
   "metadata": {},
   "outputs": [
    {
     "name": "stdout",
     "output_type": "stream",
     "text": [
      "Fitting 5 folds for each of 20 candidates, totalling 100 fits\n"
     ]
    }
   ],
   "source": [
    "high,low,total,mod_glycoLN1,glycoLNfeats_1 = train_and_evaluate(glycoLN_normscored_split_nohk, '1',\n",
    "                                                                  'glyco_splitLN_1',hk_comp, True)"
   ]
  },
  {
   "cell_type": "code",
   "execution_count": 88,
   "id": "edd9bf8f",
   "metadata": {},
   "outputs": [
    {
     "name": "stdout",
     "output_type": "stream",
     "text": [
      "Fitting 5 folds for each of 20 candidates, totalling 100 fits\n"
     ]
    }
   ],
   "source": [
    "high,low,total,mod_glycoLN2,glycoLNfeats_2 = train_and_evaluate(glycoLN_normscored_split_nohk, '2',\n",
    "                                                                  'glyco_splitLN_2',hk_comp, True)"
   ]
  },
  {
   "cell_type": "code",
   "execution_count": 89,
   "id": "c9ba834e",
   "metadata": {},
   "outputs": [
    {
     "name": "stdout",
     "output_type": "stream",
     "text": [
      "Fitting 5 folds for each of 20 candidates, totalling 100 fits\n"
     ]
    }
   ],
   "source": [
    "high,low,total,mod_glycoLN1,glycoLNfeats_3 = train_and_evaluate(glycoLN_normscored_split_nohk, '3',\n",
    "                                                                  'glyco_splitLN_3',hk_comp, True)"
   ]
  },
  {
   "cell_type": "code",
   "execution_count": 91,
   "id": "e8779032",
   "metadata": {},
   "outputs": [],
   "source": [
    "'''\n",
    "pickle models and feature dfs for the highest performing one for both TIL and LN\n",
    "'''\n",
    "'''TILs'''\n",
    "with open('mod_glycoTIL1.pkl', 'wb') as f:\n",
    "    pickle.dump(mod_glycoTIL1, f)\n",
    "f.close()\n",
    "\n",
    "with open('glycoTILfeats_1.pkl', 'wb') as f:\n",
    "    pickle.dump(glycoTILfeats_1, f)\n",
    "f.close()\n",
    "\n",
    "'''LN'''\n",
    "with open('mod_glycoLN2.pkl', 'wb') as f:\n",
    "    pickle.dump(mod_glycoLN2, f)\n",
    "f.close()\n",
    "\n",
    "with open('glycoLNfeats_2.pkl', 'wb') as f:\n",
    "    pickle.dump(glycoLNfeats_2, f)\n",
    "f.close()"
   ]
  },
  {
   "cell_type": "code",
   "execution_count": 92,
   "id": "bc74fc87",
   "metadata": {},
   "outputs": [],
   "source": [
    "hk_comp.to_csv('updatedTILandLNglyco_nohk.csv', index=False)"
   ]
  }
 ],
 "metadata": {
  "kernelspec": {
   "display_name": "Python 3 (ipykernel)",
   "language": "python",
   "name": "python3"
  },
  "language_info": {
   "codemirror_mode": {
    "name": "ipython",
    "version": 3
   },
   "file_extension": ".py",
   "mimetype": "text/x-python",
   "name": "python",
   "nbconvert_exporter": "python",
   "pygments_lexer": "ipython3",
   "version": "3.10.10"
  }
 },
 "nbformat": 4,
 "nbformat_minor": 5
}
